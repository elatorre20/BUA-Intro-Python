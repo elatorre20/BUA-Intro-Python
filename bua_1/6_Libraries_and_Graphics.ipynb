{
 "cells": [
  {
   "cell_type": "markdown",
   "metadata": {},
   "source": [
    "## Section 5 Review\n",
    "\n",
    "Print \"Hello World\" 9 times using a for loop and 7 times using a while loop."
   ]
  },
  {
   "cell_type": "code",
   "execution_count": 5,
   "metadata": {},
   "outputs": [
    {
     "name": "stdout",
     "output_type": "stream",
     "text": [
      "Hello world\n",
      "Hello world\n",
      "Hello world\n",
      "Hello world\n",
      "Hello world\n",
      "Hello world\n",
      "Hello world\n"
     ]
    }
   ],
   "source": [
    "#for i in range(9):\n",
    "#    print(\"Hello world!\")\n",
    "i = 0\n",
    "while i < 7:\n",
    "    print(\"Hello world\")\n",
    "    i = i+1"
   ]
  },
  {
   "cell_type": "markdown",
   "metadata": {},
   "source": [
    "## Section 6: Introduction to Libraries and Graphics\n",
    "\n",
    "So far, we have covered how to use logical and mathematical operations to make statements, different types and data structures to store information, and control structures such as loops and if statements. These constitute the fundamental building blocks of a programming language, and using just these you can write a program to do almost anything. Statements, data types, and control structures will make up the bulk of almost any program you write. But what if we want to do something very complex, or need to write a very large program? In this notebook and the next, we will cover two tools for organizing and reusing code: libraries and functions.\n",
    "\n",
    "## Libraries\n",
    "\n",
    "Libraries, also called packages or modules, are a way of importing code someone has already written and using it in our program to save time. Say we want to write a program to find the factorial of a number. Python does not have factorial operator, so we have to write out the code to do it ourselves:"
   ]
  },
  {
   "cell_type": "code",
   "execution_count": 6,
   "metadata": {},
   "outputs": [
    {
     "name": "stdout",
     "output_type": "stream",
     "text": [
      "120\n"
     ]
    }
   ],
   "source": [
    "#do not make n large, it will freeze the interpreter\n",
    "n = 5\n",
    "count = 1\n",
    "result = 1\n",
    "while(count <= n):\n",
    "    result = result * count\n",
    "    count = count + 1\n",
    "print(result)"
   ]
  },
  {
   "cell_type": "markdown",
   "metadata": {},
   "source": [
    "This approach works for something simple, but for something complex like displaying graphics, the program would become very long and difficult to understand. Instead, we can use the math library provided with python. The math library has code for various math-related functions, including factorial. We have to first import the library, then call the factorial function from it:"
   ]
  },
  {
   "cell_type": "code",
   "execution_count": 7,
   "metadata": {},
   "outputs": [
    {
     "name": "stdout",
     "output_type": "stream",
     "text": [
      "120\n"
     ]
    }
   ],
   "source": [
    "import math\n",
    "n = 5\n",
    "result = math.factorial(n)\n",
    "print(result)"
   ]
  },
  {
   "cell_type": "markdown",
   "metadata": {},
   "source": [
    "You can also import just the function or functions you need direcly instead of the whole package. Notice that now we call the function directly instead of using a dot notation on the package name."
   ]
  },
  {
   "cell_type": "code",
   "execution_count": 8,
   "metadata": {},
   "outputs": [
    {
     "name": "stdout",
     "output_type": "stream",
     "text": [
      "120\n"
     ]
    }
   ],
   "source": [
    "from math import factorial\n",
    "n = 5\n",
    "result = factorial(n)\n",
    "print(result)"
   ]
  },
  {
   "cell_type": "markdown",
   "metadata": {},
   "source": [
    "This approach allows us to build on existing code contributions instead of starting from scratch each time. There are literally millions of python libraries published, and for whatever task you are trying to accomplish you can find one on the internet.\n",
    "\n",
    "## Turtle Graphics\n",
    "\n",
    "Turtle is a popular python library for simple graphics. It is named for a toy from the 80s; a robot turtle with a pen attached that you could program to move around on a sheet of paper to draw lines. The turtle library allows us to use a virtual turtle robot to draw lines on a virtual sheet of paper:"
   ]
  },
  {
   "cell_type": "code",
   "execution_count": 10,
   "metadata": {},
   "outputs": [],
   "source": [
    "from turtle import Turtle\n",
    "yertle = Turtle()"
   ]
  },
  {
   "cell_type": "markdown",
   "metadata": {},
   "source": [
    "The turtle is very simple to control. We can tell it to go forward and backwards by a number of pixels, left or right by a number of degrees, or change its color."
   ]
  },
  {
   "cell_type": "code",
   "execution_count": 14,
   "metadata": {},
   "outputs": [],
   "source": [
    "\n",
    "yertle.color(\"red\")\n",
    "yertle.forward(100)\n",
    "yertle.right(90)\n",
    "yertle.color(\"blue\")\n",
    "yertle.forward(100)\n",
    "yertle.color(\"green\")\n",
    "yertle.left(90)\n",
    "yertle.backward(100)"
   ]
  },
  {
   "cell_type": "markdown",
   "metadata": {},
   "source": [
    "We can also change the color of the canvas and clear what we have drawn. Note that for functions controlling the screen, we call them on turtle.screen instead of on the turtle itself:"
   ]
  },
  {
   "cell_type": "code",
   "execution_count": 13,
   "metadata": {},
   "outputs": [],
   "source": [
    "yertle.screen.clear()\n",
    "yertle.screen.bgcolor(\"orange\")"
   ]
  },
  {
   "cell_type": "markdown",
   "metadata": {},
   "source": [
    "The turtle module also has approximately 50 other control functions for the turtle itself and canvas, but we do not have time to cover them all today. If you are interested, you can read [the turtle tutorial here](https://docs.python.org/3/library/turtle.html), which has step-by-step instructions and an explanation of all functions in the turtle. \n",
    "\n",
    "Try using turtle to make a square, with each side a different color:"
   ]
  },
  {
   "cell_type": "code",
   "execution_count": 25,
   "metadata": {},
   "outputs": [],
   "source": [
    "yertle.screen.clear()\n",
    "yertle.screen.bgcolor(\"white\")\n",
    "yertle.goto(0,0)\n",
    "yertle.color(\"#ff0000\")\n",
    "yertle.forward(80)\n",
    "yertle.right(90)\n",
    "yertle.color(\"#00ff00\")\n",
    "yertle.forward(80)\n",
    "yertle.right(90)\n",
    "yertle.color(\"green\")\n",
    "yertle.forward(80)\n",
    "yertle.right(90)\n",
    "yertle.color(\"yellow\")\n",
    "yertle.forward(80)\n",
    "yertle.right(90)"
   ]
  },
  {
   "cell_type": "markdown",
   "metadata": {},
   "source": [
    "# Bonus Problem\n",
    "\n",
    "Do not worry if you dont finish this by the end of class. Think about it a bit, and we will go through the answer at the beginning of class next week. \n",
    "\n",
    "Write code to create a regular (equilateral) polygon with an arbitrary number of sides and side length:"
   ]
  },
  {
   "cell_type": "code",
   "execution_count": 26,
   "metadata": {},
   "outputs": [],
   "source": [
    "yertle.screen.clear()\n",
    "yertle.screen.bgcolor(\"white\")\n",
    "yertle.goto(0,0)\n",
    "yertle.color(\"#ff0000\")\n",
    "\n",
    "sides = 10\n",
    "side_length = 70\n",
    "\n",
    "turn_angle = (180-((sides -2)*180)/sides)\n",
    "for i in range(sides):\n",
    "    yertle.forward(side_length)\n",
    "    yertle.right(turn_angle)"
   ]
  }
 ],
 "metadata": {
  "kernelspec": {
   "display_name": "Python 3 (ipykernel)",
   "language": "python",
   "name": "python3"
  },
  "language_info": {
   "codemirror_mode": {
    "name": "ipython",
    "version": 3
   },
   "file_extension": ".py",
   "mimetype": "text/x-python",
   "name": "python",
   "nbconvert_exporter": "python",
   "pygments_lexer": "ipython3",
   "version": "3.12.7"
  }
 },
 "nbformat": 4,
 "nbformat_minor": 4
}
