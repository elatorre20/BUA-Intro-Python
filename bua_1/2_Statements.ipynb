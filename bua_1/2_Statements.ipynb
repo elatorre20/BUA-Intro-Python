{
 "cells": [
  {
   "cell_type": "markdown",
   "id": "5de4f887-22d7-49af-991b-c48a2ef35b91",
   "metadata": {},
   "source": [
    "# Section 2 Python Introduction\n",
    "\n",
    "In this section we will explore the fundamentals of running Python code. We will look at the basic units of Python code (\"Statements\") and how the Python Interpreter converts them into code the computer can understand.\n",
    "\n",
    "## Python Interpreter\n",
    "\n",
    "We won't get too indepth on how Python code is executed, but this section will give you a sneak peak at what Computer Scientists think about when writing code.\n",
    "\n",
    "At a high level, a computer has something called a CPU (central processing unit) which is a piece of hardware which can follow very very basic instructions. [Here is an example](https://os.mbed.com/media/uploads/4180_1/cortexm0_instructions.htm) of a common set of instructions. You'll notice that there isn't a whole lot it can do. However, these fundamental instructions are all you need to build up complex logic.\n",
    "\n",
    "This is were the Python Interpreter comes into play. The Python Interpreter is able to convert the Python code we write into the basic instructions the CPU understands.\n",
    "\n",
    "If you continue your Computer Science journey, you'll learn all about how a CPU handles instructions and the different ways you can take programming languages and convert them into CPU intructions.\n",
    "\n",
    "## Python Statements and Mathematical Operations\n",
    "\n",
    "The most basic unit of Python are statements. Python is what we call a \"high level language\" which just means it reads a bit like human language. For example, below is the code to find the sum of `5 + 5`"
   ]
  },
  {
   "cell_type": "code",
   "execution_count": null,
   "id": "b5274c95-e334-4e2d-8b58-c023e6fd4be7",
   "metadata": {},
   "outputs": [],
   "source": [
    "5+5"
   ]
  },
  {
   "cell_type": "markdown",
   "id": "05f7d30e-6583-407d-a276-5e6db7a70a15",
   "metadata": {},
   "source": [
    "Run the cell above and you will get your result. Python supports a large range of mathematical operations. Below is a table showing most of them.\n",
    "\n",
    "| Operation           | Symbol   | Example   | Result |\n",
    "|---------------------|----------|-----------|--------|\n",
    "| Addition            | `+`      | `5 + 5`   | 10     |\n",
    "| Subtraction         | `-`      | `5 - 5`   | 0      |\n",
    "| Multiplication      | `*`      | `5 * 5`   | 25     |\n",
    "| Division            | `/`      | `5 / 5`   | 1      |\n",
    "| Exponentiation      | `**`     | `5 ** 2`  | 25     |\n",
    "| Modulus (Remainder) | `%`      | `8 % 3`   | 2      |\n",
    "\n",
    "You can write out more complex math statements in a single line as shown below. Python follows the standard order of operations. Remember PEMDAs!"
   ]
  },
  {
   "cell_type": "code",
   "execution_count": null,
   "id": "808a2bb8-09a9-4a10-a1ce-d17a0c068dee",
   "metadata": {},
   "outputs": [],
   "source": [
    "(5 + 3) / 4 * 2"
   ]
  },
  {
   "cell_type": "markdown",
   "id": "5be7f095-037e-4760-98c1-bead341b0848",
   "metadata": {},
   "source": [
    "In the cell below, try to write out a Python statement that will result in the number \"30\" using at least 3 numbers."
   ]
  },
  {
   "cell_type": "code",
   "execution_count": null,
   "id": "8a66dc24-62af-47b5-8ab0-4fa1e546e849",
   "metadata": {},
   "outputs": [],
   "source": []
  },
  {
   "cell_type": "markdown",
   "id": "07d9e724-20ec-45a7-ad0c-c60bf82895f0",
   "metadata": {},
   "source": [
    "## Variables\n",
    "\n",
    "Great! So now we know how to write basic math statements, but how can we build these up to do more complex operations?\n",
    "\n",
    "It would be nice to store our results to then re-use them. This gets us to the point of \"Variables\". Like in Algebra, we use variables to represent the value of something.\n",
    "\n",
    "Variables can be named anything as long as it follows the following rules.\n",
    "\n",
    "1. Must start with a letter or underscore\n",
    "2. Cannot start with a number\n",
    "3. Can only container alpha-numeric characters an underscore\n",
    "\n",
    "Below is an example you probably have seen from math class."
   ]
  },
  {
   "cell_type": "code",
   "execution_count": null,
   "id": "7d108ef0-8e11-465c-a459-d2411af1770d",
   "metadata": {},
   "outputs": [],
   "source": [
    "x = 5 + 10"
   ]
  },
  {
   "cell_type": "code",
   "execution_count": null,
   "id": "f5c55797-c7c6-4625-a646-aab31cae6da2",
   "metadata": {},
   "outputs": [],
   "source": [
    "x"
   ]
  },
  {
   "cell_type": "markdown",
   "id": "1cb16705-eed8-4f1c-a85d-16d3793356f9",
   "metadata": {},
   "source": [
    "We can see that `x` now stores the value of 15. What we just wrote is known as an \"assignment\" statement. We \"assigned\" `x` the value of the Python expression `5 + 10`. Now we can use the value of `x` like any other number"
   ]
  },
  {
   "cell_type": "code",
   "execution_count": null,
   "id": "192b3e62-a7ca-4509-84ba-d1582ceba82e",
   "metadata": {},
   "outputs": [],
   "source": [
    "x + 10"
   ]
  },
  {
   "cell_type": "markdown",
   "id": "bc2ad79d-97ab-4a94-9ba8-fabee9ab95f0",
   "metadata": {},
   "source": [
    "We can also re-assign `x` to be a new number"
   ]
  },
  {
   "cell_type": "code",
   "execution_count": null,
   "id": "d3c92bf8-5371-493f-b986-cf554572080f",
   "metadata": {},
   "outputs": [],
   "source": [
    "x = 11"
   ]
  },
  {
   "cell_type": "code",
   "execution_count": null,
   "id": "e5594f95-29aa-4396-9e3c-f0b0b57c1d5b",
   "metadata": {},
   "outputs": [],
   "source": [
    "x + 10"
   ]
  },
  {
   "cell_type": "markdown",
   "id": "943d3468-8df8-4810-abb7-59191c29c583",
   "metadata": {},
   "source": [
    "We can name variables anything we like, but the best practice is to use names that explain what your code is doing. For example, below are two cells that do the same thing. Which do you prefer?"
   ]
  },
  {
   "cell_type": "code",
   "execution_count": null,
   "id": "c26dd8f8-1cb9-4769-b1c5-24071dd5acf8",
   "metadata": {},
   "outputs": [],
   "source": [
    "pi = 3.14\n",
    "radius = 5\n",
    "wheel_circumference = 2 * pi * radius\n",
    "wheel_circumference"
   ]
  },
  {
   "cell_type": "code",
   "execution_count": null,
   "id": "d7100e63-7db9-410e-9480-6084023d91cb",
   "metadata": {},
   "outputs": [],
   "source": [
    "a = 3.14\n",
    "b = 5\n",
    "c = 2 * a * b\n",
    "c"
   ]
  },
  {
   "cell_type": "markdown",
   "id": "fafd1725-07b6-4e63-9f66-754e8de3b582",
   "metadata": {},
   "source": [
    "Now is you're chance to write some code. Try to write code, like above, but to find the area of a triangle. You'll have two variables. One to store the perpendicular height of the triangle, the other the base.\n",
    "\n",
    "The formula for the area of a triangle is below.\n",
    "\n",
    "$$\n",
    "A = \\frac{h_b \\cdot b}{2}\n",
    "$$"
   ]
  },
  {
   "cell_type": "markdown",
   "id": "d0caeb92-0eeb-4d10-b3c7-764313c12ee9",
   "metadata": {},
   "source": [
    "## Types\n",
    "\n",
    "So far we have only looked at Python expressions involving numbers, but Python can work with lots of other kinds of data. We will go over some of the most important types Python provides to us out of the box\n",
    "\n",
    "### Integers\n",
    "\n",
    "Integers (usually refered to as ints) are whole numbers and can be positive or negative. We have seen these before when we write out numbers without decimals. For example, `x = 5` the \"type\" that `x` is storing is an integer. Python also provides us a way to find out the type which is shown below."
   ]
  },
  {
   "cell_type": "code",
   "execution_count": null,
   "id": "fc14f9de-e9c3-44ab-9bc5-09f63dc803de",
   "metadata": {},
   "outputs": [],
   "source": [
    "x = 5\n",
    "type(x)"
   ]
  },
  {
   "cell_type": "markdown",
   "id": "64502eda-03d4-4e41-a865-846f6ce2767b",
   "metadata": {},
   "source": [
    "### Floats\n",
    "Floats are decimal numbers. Whenever you either write a number with a decimal, or have an expression that returns a number that requies a decimal, the type is a float. Below are some examples."
   ]
  },
  {
   "cell_type": "code",
   "execution_count": null,
   "id": "23cb3c83-451a-43f8-8a59-93f990d2500c",
   "metadata": {},
   "outputs": [],
   "source": [
    "pi = 3.14\n",
    "type(pi)"
   ]
  },
  {
   "cell_type": "code",
   "execution_count": null,
   "id": "defb0564-7f0c-4841-b358-dd990387c140",
   "metadata": {},
   "outputs": [],
   "source": [
    "x = 5 / 2\n",
    "type(x)"
   ]
  },
  {
   "cell_type": "markdown",
   "id": "042d7690-bfc5-43ab-95d4-d5e3e0f894a1",
   "metadata": {},
   "source": [
    "### Strings\n",
    "\n",
    "Strings is our first new type. String are used to represent text. You make strings by wrapping your text around in either single quotes(`'`) or double quotes(`\"`)."
   ]
  },
  {
   "cell_type": "code",
   "execution_count": null,
   "id": "15b8ae13-0dd0-4270-817a-477666b9e413",
   "metadata": {},
   "outputs": [],
   "source": [
    "x = 'hello there!'\n",
    "x"
   ]
  },
  {
   "cell_type": "markdown",
   "id": "f654e7ee-b725-47a3-94bf-873d78b01fcb",
   "metadata": {},
   "source": [
    "So far all of our statements have revolved around math. However there is lots that computers do on more \"text\" based data. For example, storing the name and address of someone for Amazon deliveries.\n",
    "\n",
    "Like how we have math operations for manipulating numbers, String have a set of operations we can use for working with them."
   ]
  },
  {
   "cell_type": "code",
   "execution_count": null,
   "id": "6adca570-dd2b-4794-92eb-d6470e907180",
   "metadata": {},
   "outputs": [],
   "source": [
    "# Concatenation\n",
    "x = 'Hello' + ' ' + 'World'\n",
    "x"
   ]
  },
  {
   "cell_type": "code",
   "execution_count": null,
   "id": "a6d90d46-123d-4bb9-aee4-c4ba5f1bf8ee",
   "metadata": {},
   "outputs": [],
   "source": [
    "# Finding the length\n",
    "len(x)"
   ]
  },
  {
   "cell_type": "code",
   "execution_count": null,
   "id": "cfda2550-da93-4f23-a06f-d7f1f6d68e8a",
   "metadata": {},
   "outputs": [],
   "source": [
    "# Changing the case\n",
    "x.upper()"
   ]
  },
  {
   "cell_type": "markdown",
   "id": "7838649f-87a5-4777-9b9a-8f2f20053ed4",
   "metadata": {},
   "source": [
    "These are just a few of the many operations you can do with Strings. Feel free to check out [this link](https://www.w3schools.com/python/python_ref_string.asp) for some other operations.\n",
    "\n",
    "You'll notice sometimes we add parenthesis for some operations like `x.upper()`. We will discuss what those are more later on"
   ]
  },
  {
   "cell_type": "markdown",
   "id": "05786ea4-9667-4aed-8f04-338290cc2d14",
   "metadata": {},
   "source": [
    "### Booleans\n",
    "\n",
    "Booleans (or bools) are types that have two possible values `True` and `False`. In Python, `True` and `False` are special values that represent truth. We will bring them up later more when we talk about conditionals. For now below is example using booleans."
   ]
  },
  {
   "cell_type": "code",
   "execution_count": null,
   "id": "c8b00e3c-10b4-4a55-88c6-fd26ead88bed",
   "metadata": {},
   "outputs": [],
   "source": [
    "x = True\n",
    "y = False\n",
    "x"
   ]
  },
  {
   "cell_type": "markdown",
   "id": "c65742a8-1815-4b7d-8413-cf1d5434f1cd",
   "metadata": {},
   "source": [
    "### Type Practice\n",
    "\n",
    "Now try out leveraging some of the types we described above. Make variables (giving them good names) and provide them with the proper value. What type is appropriate for each variables? Below are the variables to declare and populate\n",
    "\n",
    "1. Your first name\n",
    "2. Your last name\n",
    "3. Your age\n",
    "4. If you take the train to school or not\n",
    "5. Your height"
   ]
  },
  {
   "cell_type": "code",
   "execution_count": null,
   "id": "cbe1b00d-8dce-4edb-b32e-77b5f06ec16d",
   "metadata": {},
   "outputs": [],
   "source": []
  }
 ],
 "metadata": {
  "kernelspec": {
   "display_name": "Python 3 (ipykernel)",
   "language": "python",
   "name": "python3"
  },
  "language_info": {
   "codemirror_mode": {
    "name": "ipython",
    "version": 3
   },
   "file_extension": ".py",
   "mimetype": "text/x-python",
   "name": "python",
   "nbconvert_exporter": "python",
   "pygments_lexer": "ipython3",
   "version": "3.9.13"
  }
 },
 "nbformat": 4,
 "nbformat_minor": 5
}
