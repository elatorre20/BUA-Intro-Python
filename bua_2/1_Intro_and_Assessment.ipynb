{
 "cells": [
  {
   "cell_type": "markdown",
   "metadata": {},
   "source": [
    "# Hello World!\n",
    "\n",
    "Welcome to the first notebook of our programming seminar. All of you in this section noted that you have at least some experience with Python. Over the next 8 classes, we will go through notebooks to learn more advanced topics. This notebook is meant to assess what you already know, so that I can know what to cover in the next 7 notebooks, and what we can pass over to move ahead faster. Some or even most of this will be familiar to you.\n",
    "\n",
    "Before our next class, please have a look through this whole notebook. It contains several questions, marked with `'''`, which you can answer in the same cell. Try to answer the problems, but if you don't know how to do some of them, don't worry. If you come across something you can't figure out, or you have any questions, make a comment in the code cell and move on to the next problem.\n",
    "\n",
    "# Notebooks\n",
    "\n",
    "This document is a Jupyter notebook. A notebook is a container for Python code, along with formatted text cells, formatted in a nice-looking way so that we can follow along with the code. Think of it as a Word doc with code embedded. This cell is an example of a text cell (also called Markdown, after the formatting language used). The following cell is a code cell, which contains Python code that you can run. To run it, either click on the cell and click the run button on the menu bar, or while typing in the cell hit ctrl+enter.\n"
   ]
  },
  {
   "cell_type": "code",
   "execution_count": null,
   "metadata": {},
   "outputs": [],
   "source": [
    "print(\"Hello World!\")"
   ]
  },
  {
   "cell_type": "markdown",
   "metadata": {},
   "source": [
    "Although the code cells are separate, all the code cells in one notebook share the same interpreter. This means that variables, functions, and other code you use in one cell can be accessed from another. Think of it as though the notebook is typing all of the cells into the same Python window when you run them. It does not matter what order the cells are in on the notebook, but it does matter what order you run them in. For instance, the following cells have to be run in order for the variable in the first cell to be read by the second cell. If you try to run the second cell first it will cause an error:"
   ]
  },
  {
   "cell_type": "code",
   "execution_count": null,
   "metadata": {},
   "outputs": [],
   "source": [
    "x = \"print something\""
   ]
  },
  {
   "cell_type": "code",
   "execution_count": null,
   "metadata": {},
   "outputs": [],
   "source": [
    "print(x)"
   ]
  },
  {
   "cell_type": "markdown",
   "metadata": {},
   "source": [
    "If at some point your code freezes or stops running, or you just want to start the whole notebook over, you can restart the interpreter. This will clear the results of all code you have already run, and delete all variables. You can do this by clicking on `kernel->restart kernel` on the top menu bar.\n",
    "\n",
    "# Comments\n",
    "\n",
    "Comments are a way of inserting notes into code. They will stay in the code cell after you run it but will not do anything in Python. These make it much easier for you to remember what you are doing, and for other people to read your code and follow it. It is a good practice to insert comments anytime what you are doing is not immediately obvious. Code for large projects with multiple programmers can often be up to 50% comments. Comments follow a `#`:"
   ]
  },
  {
   "cell_type": "code",
   "execution_count": null,
   "metadata": {},
   "outputs": [],
   "source": [
    "#This is a comment. The following line will do nothing:\n",
    "#print(\"hello\")\n",
    "print(\"hello\") #print a word"
   ]
  },
  {
   "cell_type": "markdown",
   "metadata": {},
   "source": [
    "# Variables\n",
    "\n",
    "Variables in Python are used to store data and give it a name so we can access it later. Unlike in algebra, a variable in Python always has a specific value at any given time. Variables are created using the assingment operator `=`, with a name on the left and a value on the right:"
   ]
  },
  {
   "cell_type": "code",
   "execution_count": null,
   "metadata": {},
   "outputs": [],
   "source": [
    "x = 1 #creating the variable x\n",
    "print(x)\n",
    "x = 2 #changing the value of \n",
    "print(x)"
   ]
  },
  {
   "cell_type": "markdown",
   "metadata": {},
   "source": [
    "There are several rules for the names of variables. They cannot begin with a number, cannot contain spaces or special characters except for `_`, and cannot be a keyword (a word that is already used by Python, like `print`). If you reuse a variable name, it will overwrite whatever value that variable had before. It is a really good idea to give variables descriptive names that help you remember what they are for.\n",
    "\n",
    "# Data Types\n",
    "\n",
    "Variables can store several different types of data: `integer`s (whole numbers), `float`s (decimal numbers), `boolean`s (`True` or `False`), and `string`s (written characters). You can check the type of a variable using the `type()` function:"
   ]
  },
  {
   "cell_type": "code",
   "execution_count": null,
   "metadata": {},
   "outputs": [],
   "source": [
    "xyz = 123 #int\n",
    "pi = 3.14 #float\n",
    "truth = True #bool\n",
    "some_words = \"hello world\" #string\n",
    "\n",
    "print(type(pi)) #tells us that pi is a float"
   ]
  },
  {
   "cell_type": "markdown",
   "metadata": {},
   "source": [
    "There are also two common composite types that we will use, `list`s and `dict`s (dictionaries). A list is just multple items of the same type, in an order:"
   ]
  },
  {
   "cell_type": "code",
   "execution_count": null,
   "metadata": {},
   "outputs": [],
   "source": [
    "a_list = [1,2,3,4,5]\n",
    "print(a_list)"
   ]
  },
  {
   "cell_type": "markdown",
   "metadata": {},
   "source": [
    "To access items in a list, we use an `index` in square brackets. Counterintuitively, the first item of the list is the \"zero-th\" item. Think of it as the index representing how many items in the list are before the one at that index. List indices can also negative, to count backwards from the last item in the list. In this case, -1 represents the last item, -2 the penultimate item, and so on. we can use len() to get the total number of items in the list:"
   ]
  },
  {
   "cell_type": "code",
   "execution_count": null,
   "metadata": {},
   "outputs": [],
   "source": [
    "print(a_list[0]) #print the first item of the list\n",
    "print(a_list[-1]) #print the last item of the list\n",
    "print(len(a_list)) #print the length of the list"
   ]
  },
  {
   "cell_type": "code",
   "execution_count": null,
   "metadata": {},
   "outputs": [],
   "source": [
    "'''Problem: print the 8 from the following list twice, once using a positive index and once using a negative index'''\n",
    "another_list = [7,9,12,7,8,15,17]"
   ]
  },
  {
   "cell_type": "markdown",
   "metadata": {},
   "source": [
    "A dictionary is also a collection of items, but instead of being stored by order, they are stored as key-value pairs. They keys and values can be any type, although for most applications we will have string keys:"
   ]
  },
  {
   "cell_type": "code",
   "execution_count": null,
   "metadata": {},
   "outputs": [],
   "source": [
    "#storing the heights of students in a class with a dictionary\n",
    "student_heights = {\"Cristina\": 155, \"Francisco\": 170, \"Juan\": 165, \"Fernando\": 168}"
   ]
  },
  {
   "cell_type": "markdown",
   "metadata": {},
   "source": [
    "To access an item in a dictionary, we use a key instead of an index. The result is the value associated with that key:"
   ]
  },
  {
   "cell_type": "code",
   "execution_count": null,
   "metadata": {},
   "outputs": [],
   "source": [
    "print(student_heights[\"Francisco\"])"
   ]
  },
  {
   "cell_type": "markdown",
   "metadata": {},
   "source": [
    "Dictionaries can also be nested, with the value of a key being itself another dictionary. In this case, we key into the second dictionary after keying into the first:"
   ]
  },
  {
   "cell_type": "code",
   "execution_count": null,
   "metadata": {},
   "outputs": [],
   "source": [
    "city_weather = {\"Boston\": {\"summer\": \"hot\", \"winter\": \"snowy\"}, \"Madrid\": {\"summer\": \"very hot\", \"winter\": \"cool\"}}\n",
    "print(city_weather[\"Madrid\"][\"summer\"])"
   ]
  },
  {
   "cell_type": "code",
   "execution_count": null,
   "metadata": {},
   "outputs": [],
   "source": [
    "'''Problem: print the dictionary entry for the weather in Boston in the winter'''"
   ]
  },
  {
   "cell_type": "markdown",
   "metadata": {},
   "source": [
    "# Math\n",
    "\n",
    "Mathematical and logical operations are the basic building block of every program. Python has a set of mathematical operators built in:"
   ]
  },
  {
   "cell_type": "code",
   "execution_count": null,
   "metadata": {},
   "outputs": [],
   "source": [
    "a = 5\n",
    "b = 7\n",
    "\n",
    "print(a+b)  #addition\n",
    "print(a-b)  #subtraction\n",
    "print(a*b)  #subtraction\n",
    "print(a/b)  #division\n",
    "print(b//a) #integer division (no remainder)\n",
    "print(b%a)  #modulo or remainder\n",
    "print(a**b) #exponentiation\n"
   ]
  },
  {
   "cell_type": "markdown",
   "metadata": {},
   "source": [
    "Python does not have a root operator, so to take roots we have to use the exponent operator with a fractional exponent:"
   ]
  },
  {
   "cell_type": "code",
   "execution_count": null,
   "metadata": {},
   "outputs": [],
   "source": [
    "x = 4\n",
    "print(x**0.5) #square root"
   ]
  },
  {
   "cell_type": "markdown",
   "metadata": {},
   "source": [
    "The value in a variable assignment can also be an expression with logical/mathematical operators in it. In this case, the value of the whole expression will be calculated and then assigned to the variable:"
   ]
  },
  {
   "cell_type": "code",
   "execution_count": null,
   "metadata": {},
   "outputs": [],
   "source": [
    "x = 4+7-3/2\n",
    "print(x)"
   ]
  },
  {
   "cell_type": "markdown",
   "metadata": {},
   "source": [
    "Multiple operators in one statement usually but do not always follow PEMDAS, so it is a good idea to use parentheses when combining operations on one line:"
   ]
  },
  {
   "cell_type": "code",
   "execution_count": null,
   "metadata": {},
   "outputs": [],
   "source": [
    "radius = 5\n",
    "pi = 3.14\n",
    "circle_area = pi*(radius**2)\n",
    "print(circle_area)"
   ]
  },
  {
   "cell_type": "code",
   "execution_count": null,
   "metadata": {},
   "outputs": [],
   "source": [
    "'''Problem: print the area of a triangle with the following base and height'''\n",
    "base = 4\n",
    "height = 7"
   ]
  },
  {
   "cell_type": "markdown",
   "metadata": {},
   "source": [
    "# Logic\n",
    "\n",
    "Python also has three logical operators. These work on Booleans (truth values). `and` is true if both inputs are true, `or` is true if either input is true, and `not` takes in one input and gives the opposite value:"
   ]
  },
  {
   "cell_type": "code",
   "execution_count": null,
   "metadata": {},
   "outputs": [],
   "source": [
    "x = True\n",
    "y = False\n",
    "\n",
    "print(x and y)\n",
    "print(x or y)\n",
    "print(not x)"
   ]
  },
  {
   "cell_type": "markdown",
   "metadata": {},
   "source": [
    "We also have the comparison operators, equivalence (`==`), greater than (`>`), and less than (`<`). Equivalence is true if both inputs are the same, and greater/less than if the first input is greater/less than the second. These can also be combined to make greater than or equal to (`>=`) and less than or equal to (`<=`):"
   ]
  },
  {
   "cell_type": "code",
   "execution_count": null,
   "metadata": {},
   "outputs": [],
   "source": [
    "x = 1\n",
    "y = 2\n",
    "z = 1\n",
    "\n",
    "print(x == y)\n",
    "print(x < y)\n",
    "print(x >= y)\n",
    "print(x >= z)"
   ]
  },
  {
   "cell_type": "markdown",
   "metadata": {},
   "source": [
    "# Control Structures\n",
    "\n",
    "Without control structures, code will just run in the order that we write the lines. There are many occasions where we want a program to behave differently based on some inputs or values. To do this, we can use control blocks. Python uses an `if`\\\\`elif`\\\\`else` control structure. When coming to an if statement, the interpreter checks whether the condition in the parentheses is true. If it is, it executes the code in the indented block. If not, it skips to the next line after the block:"
   ]
  },
  {
   "cell_type": "code",
   "execution_count": null,
   "metadata": {},
   "outputs": [],
   "source": [
    "value = 5\n",
    "\n",
    "if(value < 3):\n",
    "    print(\"this will not print\")\n",
    "if(value == 5):\n",
    "    print(\"this will print\")\n",
    "print(\"this will always print\")"
   ]
  },
  {
   "cell_type": "markdown",
   "metadata": {},
   "source": [
    "Elif and else blocks are useful for checking multiple conditions. Elif and else blocks must immediatley follow an if block. Out of a group of if/elif/else blocks, only one will execute. As soon as the interpreter hits a block which is true, it stops checking the following blocks, and they will not execute even if their condition is true:"
   ]
  },
  {
   "cell_type": "code",
   "execution_count": null,
   "metadata": {},
   "outputs": [],
   "source": [
    "value = 4\n",
    "\n",
    "if(value < 2):\n",
    "    print(\"1\") #this will not print, because the condition is true\n",
    "elif(value <= 3):\n",
    "    print(\"2\") #this will also not print, for the same reason\n",
    "elif(value > 3):\n",
    "    print(\"3\") #this will print, because it is the first block with a true condition\n",
    "elif(value == 4):\n",
    "    print(\"4\") #this will not print, because even though the condition is true, we have already hit a true condition\n",
    "else:\n",
    "    print(\"5\") #this will not print, because at least one of the above conditions is true"
   ]
  },
  {
   "cell_type": "code",
   "execution_count": null,
   "metadata": {},
   "outputs": [],
   "source": [
    "'''Problem: make a group of if/elif/else blocks that prints a letter grade based on a percent score. Test it by changing the score to get different grades'''\n",
    "score = 0.93"
   ]
  },
  {
   "cell_type": "markdown",
   "metadata": {},
   "source": [
    "# Loops\n",
    "\n",
    "Loops are a way of repeating code. Python has 2 types of loop, `for` and `while`. The for loop iterates over a list of objects using an interator variable. The iterator starts as the first item in the first item in the list, then advances one item each loop until it reaches the end of the list. Using a for loop on range(n) is a common way of looping n times:"
   ]
  },
  {
   "cell_type": "code",
   "execution_count": null,
   "metadata": {},
   "outputs": [],
   "source": [
    "some_numbers = [23,54,73,34,85,36,98,72,19]\n",
    "for i in some_numbers:\n",
    "    print(i)\n",
    "\n",
    "for n in range(10):\n",
    "    print(n)"
   ]
  },
  {
   "cell_type": "code",
   "execution_count": null,
   "metadata": {},
   "outputs": [],
   "source": [
    "'''Problem: print \"Hello!\" 13 times'''"
   ]
  },
  {
   "cell_type": "markdown",
   "metadata": {},
   "source": [
    "While loops have a condition, like an if statement, and continue looping while the condition is true:"
   ]
  },
  {
   "cell_type": "code",
   "execution_count": null,
   "metadata": {},
   "outputs": [],
   "source": [
    "n = 0\n",
    "while(n <= 10):\n",
    "    print(n)\n",
    "    n = n + 1 #very important not to forget to increment n!"
   ]
  },
  {
   "cell_type": "markdown",
   "metadata": {},
   "source": [
    "Note that it is possible to make a while loop run forever if you are not careful. The following loop will continue printing forever (if you run this cell, you will have to restart the interpreter to stop it):"
   ]
  },
  {
   "cell_type": "code",
   "execution_count": null,
   "metadata": {},
   "outputs": [],
   "source": [
    "n = 0\n",
    "while(n < 1):\n",
    "    print(\"looping forever!\")\n",
    "    #because we do not change n, it will stay less than 1 forever"
   ]
  },
  {
   "cell_type": "code",
   "execution_count": null,
   "metadata": {},
   "outputs": [],
   "source": [
    "'''Problem: print hello 9 times, using a while loop'''"
   ]
  },
  {
   "cell_type": "markdown",
   "metadata": {},
   "source": [
    "# Libraries\n",
    "\n",
    "Libraries, also sometimes called modules or packages, are containers of code which you can import and use, so that you do not have to write it yourself. Libraries are usually published online, and literally millions of python libraries are available, to do tasks as varied as ggraphics processing to speech recognition. You can download libraries directly from the internet or through a package manager, but a selection of useful ones are included with the python download itself. To use library code, you import the library, and then call functions out of it:"
   ]
  },
  {
   "cell_type": "code",
   "execution_count": null,
   "metadata": {},
   "outputs": [],
   "source": [
    "import math\n",
    "\n",
    "print(math.sin(3.14))"
   ]
  },
  {
   "cell_type": "markdown",
   "metadata": {},
   "source": [
    "If you only need some of the functions in the library, you can also import those directly:"
   ]
  },
  {
   "cell_type": "code",
   "execution_count": null,
   "metadata": {},
   "outputs": [],
   "source": [
    "from math import sqrt\n",
    "\n",
    "print(math.sqrt(25))"
   ]
  },
  {
   "cell_type": "markdown",
   "metadata": {},
   "source": [
    "# Combined Exercise\n",
    "\n",
    "If you can't figure this out, do not worry. Try the parts that you can, and make a note of where you struggle.\n",
    "\n",
    "Look up the forecast for the high temperature in Boston for the next 7 days. Put the temperatures in a list and compute the average. Next, look up the forecast for the same period for Sydney, Australia. Write a set of if/elif/else statements that categorize a temperature as hot (over 80 degrees), comfortable(50-79), or cold(below 50). Using this code, determine whether the next week in each city will be hot, comfortable, or cold; and print the result. Enter your answer in the next cell:"
   ]
  },
  {
   "cell_type": "code",
   "execution_count": null,
   "metadata": {},
   "outputs": [],
   "source": []
  },
  {
   "cell_type": "markdown",
   "metadata": {},
   "source": [
    "# Your experience\n",
    "\n",
    "If you are in this section of the seminar, you indicated that you have at least some familiarity with Python. Please answer the next few questions so I can have a better idea of what your experience covers:"
   ]
  },
  {
   "cell_type": "code",
   "execution_count": null,
   "metadata": {},
   "outputs": [],
   "source": [
    "'''Were any of the topics in this notebook unfamiliar to you? If so, do you have any specific questions? Answer in comments.'''"
   ]
  },
  {
   "cell_type": "code",
   "execution_count": null,
   "metadata": {},
   "outputs": [],
   "source": [
    "'''What kinds of projects/exercises have you worked on in Python? Answe in comments, and feel free to paste in code you have written if you would like to.'''"
   ]
  },
  {
   "cell_type": "code",
   "execution_count": null,
   "metadata": {},
   "outputs": [],
   "source": [
    "'''Are there any topics related to programming or computer science you are specifically interested in? They could be anyting (graphics, advanced math, games, language processing...) Please answer in comments. We may not cover everything, but I will do my best to tailor the notebooks to what you want to learn.'''"
   ]
  },
  {
   "cell_type": "markdown",
   "metadata": {},
   "source": [
    "# Have a good spring break, and I look forward to seeing you in class! "
   ]
  }
 ],
 "metadata": {
  "kernelspec": {
   "display_name": "Python 3",
   "language": "python",
   "name": "python3"
  },
  "language_info": {
   "codemirror_mode": {
    "name": "ipython",
    "version": 3
   },
   "file_extension": ".py",
   "mimetype": "text/x-python",
   "name": "python",
   "nbconvert_exporter": "python",
   "pygments_lexer": "ipython3",
   "version": "3.13.1"
  }
 },
 "nbformat": 4,
 "nbformat_minor": 2
}
