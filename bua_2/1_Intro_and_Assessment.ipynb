{
 "cells": [
  {
   "cell_type": "markdown",
   "metadata": {},
   "source": [
    "# Hello World!\n",
    "\n",
    "Welcome to the first notebook of our programming seminar. All of you in this section noted that you have at least some experience with Python. Over the next 8 classes, we will go through notebooks to learn more advanced topics. This notebook is meant to assess what you already know, so that I can know what to cover in the next 7 notebooks, and what we can pass over to move ahead faster.\n",
    "\n",
    "Before our next class, please have a look through this whole notebook. Try to answer the problems, but if you don't know how to do some of them, don't worry. Make a note of what you do not \n",
    "\n",
    "# Notebooks\n",
    "\n",
    "This document is a Jupyter notebook. A notebook is a container for Python code, along with formatted text cells, formatted in a nice-looking way so that we can follow along with the code. Think of it as a Word doc with code embedded. This cell is an example of a text cell (also called Markdown, after the formatting language used). The following cell is a code cell, which contains Python code that you can run. To run it, either click on the cell and click the run button on the menu bar, or while typing in the cell hit ctrl+enter.\n"
   ]
  },
  {
   "cell_type": "code",
   "execution_count": null,
   "metadata": {},
   "outputs": [
    {
     "name": "stdout",
     "output_type": "stream",
     "text": [
      "Hello world!\n"
     ]
    }
   ],
   "source": [
    "print(\"Hello World!\")"
   ]
  },
  {
   "cell_type": "markdown",
   "metadata": {},
   "source": [
    "Although the code cells are separate, all the code cells in one notebook share the same interpreter. This means that variables, functions, and other code you use in one cell can be accessed from another. Think of it as though the notebook is typing all of the cells into the same Python window when you run them. It does not matter what order the cells are in on the notebook, but it does matter what order you run them in. For instance, the following cells have to be run in order for the variable in the first cell to be read by the second cell. If you try to run the second cell first it will cause an error. "
   ]
  },
  {
   "cell_type": "code",
   "execution_count": null,
   "metadata": {},
   "outputs": [],
   "source": [
    "x = \"print something\""
   ]
  },
  {
   "cell_type": "code",
   "execution_count": null,
   "metadata": {},
   "outputs": [],
   "source": [
    "print(x)"
   ]
  },
  {
   "cell_type": "markdown",
   "metadata": {},
   "source": [
    "If at some point your code freezes or stops running, or you just want to start the whole notebook over, you can restart the interpreter. This will clear the results of all code you have already run, and delete all variables. You can do this by clicking on `kernel->restart kernel` on the top menu bar.\n",
    "\n",
    "# Basic Logic"
   ]
  }
 ],
 "metadata": {
  "kernelspec": {
   "display_name": "Python 3",
   "language": "python",
   "name": "python3"
  },
  "language_info": {
   "codemirror_mode": {
    "name": "ipython",
    "version": 3
   },
   "file_extension": ".py",
   "mimetype": "text/x-python",
   "name": "python",
   "nbconvert_exporter": "python",
   "pygments_lexer": "ipython3",
   "version": "3.13.1"
  }
 },
 "nbformat": 4,
 "nbformat_minor": 2
}
