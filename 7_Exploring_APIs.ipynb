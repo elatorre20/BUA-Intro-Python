{
 "cells": [
  {
   "cell_type": "markdown",
   "id": "51314fd3-82fc-4e62-86eb-aa85bc2a4045",
   "metadata": {},
   "source": [
    "# Section 6 Review\n",
    "\n",
    "Use the previous material to determine if dew is likely to be forming at this time. Use the Weather API to get the current temperature and the dew point. Dew forms when the temperature is below the dew point. Print out a message saying if we are at or below dew point."
   ]
  },
  {
   "cell_type": "code",
   "execution_count": 2,
   "id": "629523a6-2ffa-43fb-bba7-5e8ddfe88a68",
   "metadata": {
    "tags": []
   },
   "outputs": [
    {
     "data": {
      "text/plain": [
       "{'@context': ['https://geojson.org/geojson-ld/geojson-context.jsonld',\n",
       "  {'@version': '1.1',\n",
       "   'wx': 'https://api.weather.gov/ontology#',\n",
       "   's': 'https://schema.org/',\n",
       "   'geo': 'http://www.opengis.net/ont/geosparql#',\n",
       "   'unit': 'http://codes.wmo.int/common/unit/',\n",
       "   '@vocab': 'https://api.weather.gov/ontology#',\n",
       "   'geometry': {'@id': 's:GeoCoordinates', '@type': 'geo:wktLiteral'},\n",
       "   'city': 's:addressLocality',\n",
       "   'state': 's:addressRegion',\n",
       "   'distance': {'@id': 's:Distance', '@type': 's:QuantitativeValue'},\n",
       "   'bearing': {'@type': 's:QuantitativeValue'},\n",
       "   'value': {'@id': 's:value'},\n",
       "   'unitCode': {'@id': 's:unitCode', '@type': '@id'},\n",
       "   'forecastOffice': {'@type': '@id'},\n",
       "   'forecastGridData': {'@type': '@id'},\n",
       "   'publicZone': {'@type': '@id'},\n",
       "   'county': {'@type': '@id'}}],\n",
       " 'id': 'https://api.weather.gov/stations/KBOS/observations/2023-11-05T23:54:00+00:00',\n",
       " 'type': 'Feature',\n",
       " 'geometry': {'type': 'Point', 'coordinates': [-71.03, 42.37]},\n",
       " 'properties': {'@id': 'https://api.weather.gov/stations/KBOS/observations/2023-11-05T23:54:00+00:00',\n",
       "  '@type': 'wx:ObservationStation',\n",
       "  'elevation': {'unitCode': 'wmoUnit:m', 'value': 9},\n",
       "  'station': 'https://api.weather.gov/stations/KBOS',\n",
       "  'timestamp': '2023-11-05T23:54:00+00:00',\n",
       "  'rawMessage': 'KBOS 052354Z 31004KT 10SM FEW060 FEW250 12/03 A3004 RMK AO2 SLP171 T01220033 10167 20122 51022',\n",
       "  'textDescription': 'Mostly Clear',\n",
       "  'icon': 'https://api.weather.gov/icons/land/night/few?size=medium',\n",
       "  'presentWeather': [],\n",
       "  'temperature': {'unitCode': 'wmoUnit:degC',\n",
       "   'value': 12.2,\n",
       "   'qualityControl': 'V'},\n",
       "  'dewpoint': {'unitCode': 'wmoUnit:degC',\n",
       "   'value': 3.3,\n",
       "   'qualityControl': 'V'},\n",
       "  'windDirection': {'unitCode': 'wmoUnit:degree_(angle)',\n",
       "   'value': 310,\n",
       "   'qualityControl': 'V'},\n",
       "  'windSpeed': {'unitCode': 'wmoUnit:km_h-1',\n",
       "   'value': 7.56,\n",
       "   'qualityControl': 'V'},\n",
       "  'windGust': {'unitCode': 'wmoUnit:km_h-1',\n",
       "   'value': None,\n",
       "   'qualityControl': 'Z'},\n",
       "  'barometricPressure': {'unitCode': 'wmoUnit:Pa',\n",
       "   'value': 101730,\n",
       "   'qualityControl': 'V'},\n",
       "  'seaLevelPressure': {'unitCode': 'wmoUnit:Pa',\n",
       "   'value': 101710,\n",
       "   'qualityControl': 'V'},\n",
       "  'visibility': {'unitCode': 'wmoUnit:m',\n",
       "   'value': 16090,\n",
       "   'qualityControl': 'C'},\n",
       "  'maxTemperatureLast24Hours': {'unitCode': 'wmoUnit:degC', 'value': None},\n",
       "  'minTemperatureLast24Hours': {'unitCode': 'wmoUnit:degC', 'value': None},\n",
       "  'precipitationLastHour': {'unitCode': 'wmoUnit:mm',\n",
       "   'value': None,\n",
       "   'qualityControl': 'Z'},\n",
       "  'precipitationLast3Hours': {'unitCode': 'wmoUnit:mm',\n",
       "   'value': None,\n",
       "   'qualityControl': 'Z'},\n",
       "  'precipitationLast6Hours': {'unitCode': 'wmoUnit:mm',\n",
       "   'value': None,\n",
       "   'qualityControl': 'Z'},\n",
       "  'relativeHumidity': {'unitCode': 'wmoUnit:percent',\n",
       "   'value': 54.534546384907,\n",
       "   'qualityControl': 'V'},\n",
       "  'windChill': {'unitCode': 'wmoUnit:degC',\n",
       "   'value': None,\n",
       "   'qualityControl': 'V'},\n",
       "  'heatIndex': {'unitCode': 'wmoUnit:degC',\n",
       "   'value': None,\n",
       "   'qualityControl': 'V'},\n",
       "  'cloudLayers': [{'base': {'unitCode': 'wmoUnit:m', 'value': 1830},\n",
       "    'amount': 'FEW'},\n",
       "   {'base': {'unitCode': 'wmoUnit:m', 'value': 7620}, 'amount': 'FEW'}]}}"
      ]
     },
     "execution_count": 2,
     "metadata": {},
     "output_type": "execute_result"
    }
   ],
   "source": [
    "import requests\n",
    "base_url = 'https://api.weather.gov/stations/KBOS/observations/latest'\n",
    "response = requests.get(base_url).json()\n",
    "response"
   ]
  },
  {
   "cell_type": "code",
   "execution_count": null,
   "id": "96dfa64b-fbbe-4c16-bb41-35951cda081d",
   "metadata": {},
   "outputs": [],
   "source": []
  },
  {
   "cell_type": "markdown",
   "id": "8c56c1c9-101c-4146-a0d3-eefbbe02a727",
   "metadata": {},
   "source": [
    "## Exploring Public APIs\n",
    "\n",
    "There are a ton of APIs available out there. Some are free, some require a subscription, but you can do just about anything on the internet through available APIs.\n",
    "\n",
    "You can create an automation that changes the color of lights in your home based on the temperature outside. Figure out the perfect time to start a road trip based on data from Google Maps. Automatically determine the type of bird based on an audio recording of the bird song.\n",
    "\n",
    "Today we are going to spend some time exploring some of the APIs available. What are some things that you do in your free time? Some areas you are interested in?\n",
    "\n",
    "Keep track of some of your favorite APIs throughout today as you will be working with one at the end."
   ]
  },
  {
   "cell_type": "code",
   "execution_count": null,
   "id": "707288d8-0b1f-492f-8637-195f036bb831",
   "metadata": {},
   "outputs": [],
   "source": []
  },
  {
   "cell_type": "markdown",
   "id": "912c07ba-846a-48ca-bfa8-f626feea265b",
   "metadata": {},
   "source": [
    "## You're Turn\n",
    "\n",
    "Select one of the APIs we worked with before and try to find an answer to some problem. Use what we discussed throughout this lecture to come up with some problem and try to answer that problem with a cooresponding API."
   ]
  },
  {
   "cell_type": "code",
   "execution_count": null,
   "id": "bbd97fc7-8729-4997-b5b7-7ec44fb7d1ff",
   "metadata": {},
   "outputs": [],
   "source": []
  }
 ],
 "metadata": {
  "kernelspec": {
   "display_name": "Python 3 (ipykernel)",
   "language": "python",
   "name": "python3"
  },
  "language_info": {
   "codemirror_mode": {
    "name": "ipython",
    "version": 3
   },
   "file_extension": ".py",
   "mimetype": "text/x-python",
   "name": "python",
   "nbconvert_exporter": "python",
   "pygments_lexer": "ipython3",
   "version": "3.9.13"
  }
 },
 "nbformat": 4,
 "nbformat_minor": 5
}
