{
 "cells": [
  {
   "cell_type": "markdown",
   "id": "b1636d9f-e4c7-4861-9cac-1bb0bfb8f25e",
   "metadata": {},
   "source": [
    "# Section 4 Review\n",
    "\n",
    "Based on the temperature, write a series of if/elif/else statements that will print the suggested clothing to wear based on the range of temperature.\n",
    "\n",
    "| Temperature Range | Clothing     |\n",
    "|-------------------|--------------|\n",
    "| < 40              | Winter Coat  |\n",
    "| 40-50             | Sweat Shirt  |\n",
    "| 50-65             | Light Jacket |\n",
    "| > 65              | T-shirt      |"
   ]
  },
  {
   "cell_type": "code",
   "execution_count": null,
   "id": "72372240-6fad-45d9-8ea2-ad33cf2160d5",
   "metadata": {},
   "outputs": [],
   "source": [
    "temperature = 75"
   ]
  },
  {
   "cell_type": "markdown",
   "id": "53ae287d-15c1-4bac-9c99-32bc64775a07",
   "metadata": {},
   "source": [
    "# Section 5 Loops\n",
    "\n",
    "We know now know how to have code that runs differently based on conditions. This has let us have decisions in our code. The next step is having our code run multiple times based on some condition. We will consider a problem we have addressed several times so far.\n",
    "\n",
    "> We have a list of grades, we want the ability to calculate the average of the grades\n",
    "\n",
    "So far, we have implemented this approach by manually accessing each element and adding them together. This works, but what if we have 100 elements? What if you don't know before hand how many elements are in our list before we write the code? It would be nice to be able to write flexible code."
   ]
  },
  {
   "cell_type": "markdown",
   "id": "5875b635-3f6e-4a68-8323-4ebb82590d26",
   "metadata": {
    "tags": []
   },
   "source": [
    "## While Loops\n",
    "\n",
    "The first loop type we will talk about are `while` loops. Loops are blocks of code that keep running based on a condition. These conditions are just like the conditions we worked last time. While loops work based on the steps below.\n",
    "\n",
    "1. Check the condition\n",
    "2. If the condition is true run the block of code, otherwise exit the loop\n",
    "3. Go back to step 1\n",
    "\n",
    "Below is an example of a basic while loop."
   ]
  },
  {
   "cell_type": "code",
   "execution_count": 4,
   "id": "93f67958-f34e-4cac-88b5-698b98f5d38d",
   "metadata": {
    "tags": []
   },
   "outputs": [
    {
     "name": "stdout",
     "output_type": "stream",
     "text": [
      "0\n",
      "1\n",
      "2\n",
      "3\n",
      "4\n",
      "5\n",
      "6\n",
      "7\n",
      "8\n",
      "9\n"
     ]
    }
   ],
   "source": [
    "x = 0\n",
    "\n",
    "while x < 10:\n",
    "    print(x)\n",
    "    x = x + 1"
   ]
  },
  {
   "cell_type": "markdown",
   "id": "8a4e1851-ed0a-4525-b1d5-da880eb9637a",
   "metadata": {},
   "source": [
    "The structure is a lot like an `if` statement it follows the format.\n",
    "\n",
    "```\n",
    "while <condition>:\n",
    "    <code>\n",
    "```\n",
    "\n",
    "The body of the while loop will keep running as long as the condition is true. What happens if the condition is never `False`?\n",
    "\n",
    "When we create while loops, we want to consider the following steps\n",
    "\n",
    "1. Initializing our \"loop\" variable\n",
    "2. Writing the condition\n",
    "3. Updating our loop variable\n",
    "\n",
    "For example, lets consider the task \"print every even number starting from the number 2 up to and including the number 20\". Let's write this together"
   ]
  },
  {
   "cell_type": "code",
   "execution_count": null,
   "id": "af0285b6-0236-41ce-a2bf-de48caebb99d",
   "metadata": {},
   "outputs": [],
   "source": []
  },
  {
   "cell_type": "markdown",
   "id": "72b1ec10-e7a1-4383-9e78-b1eb45820820",
   "metadata": {},
   "source": [
    "Lets see how we can use our while loops to make our average calculator cleaner.\n",
    "\n",
    "1. How should we initialize our variable?\n",
    "2. What is the condition we should consider?\n",
    "3. How should we update our variable?"
   ]
  },
  {
   "cell_type": "code",
   "execution_count": null,
   "id": "8501f320-c09e-470f-af32-104ccc69c290",
   "metadata": {},
   "outputs": [],
   "source": []
  },
  {
   "cell_type": "markdown",
   "id": "514536bd-f237-40a5-99c5-e57b76cebc07",
   "metadata": {},
   "source": [
    "Now try to write out your own program using a while loop. For this program, you will be given a number between 0-100 and some number to guess. Your program will keep trying numbers until it finds the answer."
   ]
  },
  {
   "cell_type": "code",
   "execution_count": null,
   "id": "169caf90-0b44-4f30-88bf-61b74c1ec812",
   "metadata": {
    "tags": []
   },
   "outputs": [],
   "source": []
  },
  {
   "cell_type": "markdown",
   "id": "eeb4016b-2580-4fb7-846c-8c24942be9a4",
   "metadata": {},
   "source": [
    "## For Loops\n",
    "\n",
    "While loops give us all the loop structure we need. But we are often times writing loops to do things like iterate over a list. Most languages (including Python) have a simplified method for this use case. In comes `for` loops. Below is an example that will print out the numbers 0-9."
   ]
  },
  {
   "cell_type": "code",
   "execution_count": 1,
   "id": "758889f0-72c8-4126-8bc0-bd9ecbcf9f05",
   "metadata": {
    "tags": []
   },
   "outputs": [
    {
     "name": "stdout",
     "output_type": "stream",
     "text": [
      "0\n",
      "1\n",
      "2\n",
      "3\n",
      "4\n",
      "5\n",
      "6\n",
      "7\n",
      "8\n",
      "9\n"
     ]
    }
   ],
   "source": [
    "for i in range(0, 10):\n",
    "    print(i)"
   ]
  },
  {
   "cell_type": "markdown",
   "id": "8f11bbdb-6a70-4cf6-83e4-4d104d194675",
   "metadata": {},
   "source": [
    "The for loop follows the structure shown below\n",
    "\n",
    "```\n",
    "for <variable name> in <list of elements>:\n",
    "    <code>\n",
    "```\n",
    "\n",
    "The entry that comes after `in` can be anything that represents a series of elements. Below we have two examples of calculating the average of a list."
   ]
  },
  {
   "cell_type": "code",
   "execution_count": 3,
   "id": "d66ffa31-537e-48b8-b394-dde2a9a7611a",
   "metadata": {
    "tags": []
   },
   "outputs": [
    {
     "name": "stdout",
     "output_type": "stream",
     "text": [
      "72.2\n"
     ]
    }
   ],
   "source": [
    "grades = [65, 90, 85, 76, 45]\n",
    "\n",
    "total = 0\n",
    "for index in range(0, len(grades)):\n",
    "    total += grades[index]\n",
    "print(total / len(grades))"
   ]
  },
  {
   "cell_type": "code",
   "execution_count": 4,
   "id": "a6f539ed-8b73-48da-9345-571b99120d44",
   "metadata": {
    "tags": []
   },
   "outputs": [
    {
     "name": "stdout",
     "output_type": "stream",
     "text": [
      "72.2\n"
     ]
    }
   ],
   "source": [
    "total = 0\n",
    "for grade in grades:\n",
    "    total += grade\n",
    "print(total / len(grades))"
   ]
  },
  {
   "cell_type": "markdown",
   "id": "7c55071a-78d6-4ece-bf63-7eb38a84a3b1",
   "metadata": {},
   "source": [
    "When do we typically want to use a for loop? When do we typically want to use a while loop?\n",
    "\n",
    "Now, try to solve the following problem. Find the average temperature for NYC based on the series of predictions. Then determine what is the best article of clothing to use based on the table at the top."
   ]
  },
  {
   "cell_type": "code",
   "execution_count": 5,
   "id": "ffdbb191-6dff-468c-84a4-cef86912a36b",
   "metadata": {
    "tags": []
   },
   "outputs": [],
   "source": [
    "weather_info = {\n",
    "    'Boston': {\n",
    "        'predictions': [34, 43, 45, 45, 41]\n",
    "    },\n",
    "    'NYC': {\n",
    "        'predictions': [45, 47, 50, 54, 45, 42]\n",
    "    }\n",
    "}"
   ]
  },
  {
   "cell_type": "code",
   "execution_count": null,
   "id": "f8d57284-a91e-41d3-9982-7eee10b397b8",
   "metadata": {},
   "outputs": [],
   "source": []
  }
 ],
 "metadata": {
  "kernelspec": {
   "display_name": "Python 3 (ipykernel)",
   "language": "python",
   "name": "python3"
  },
  "language_info": {
   "codemirror_mode": {
    "name": "ipython",
    "version": 3
   },
   "file_extension": ".py",
   "mimetype": "text/x-python",
   "name": "python",
   "nbconvert_exporter": "python",
   "pygments_lexer": "ipython3",
   "version": "3.11.4"
  }
 },
 "nbformat": 4,
 "nbformat_minor": 5
}
