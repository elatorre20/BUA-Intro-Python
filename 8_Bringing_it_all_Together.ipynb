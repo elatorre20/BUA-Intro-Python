{
 "cells": [
  {
   "cell_type": "markdown",
   "id": "d18b9013-e357-457c-9e3a-298fe252ceef",
   "metadata": {},
   "source": [
    "# Using API's Practice\n",
    "\n",
    "You are making a travel app and you want to integrate a feature that will let users type in a value in their currency and convert it to another currency.\n",
    "\n",
    "For simplicity, start with using the [this currency API](https://github.com/fawazahmed0/currency-api#readme) \n",
    "to convert from USD(US dollar) to EUR (euro) where the value is written into the code, next,\n",
    "try to get the user to type in a number to then convert using the API."
   ]
  },
  {
   "cell_type": "code",
   "execution_count": 3,
   "id": "e33dc50b-5336-4c2d-863a-d3bf9d3b8633",
   "metadata": {
    "tags": []
   },
   "outputs": [],
   "source": [
    "import requests\n",
    "amount_usd = 7.50\n",
    "base_url = 'https://cdn.jsdelivr.net/gh/fawazahmed0/currency-api@1/latest/currencies/usd/eur.json'\n",
    "\n",
    "response = requests.get(base_url).json()"
   ]
  },
  {
   "cell_type": "code",
   "execution_count": null,
   "id": "98057494-dc89-463d-93af-5a22ba3490f5",
   "metadata": {},
   "outputs": [],
   "source": []
  },
  {
   "cell_type": "markdown",
   "id": "0c9bb4b1-3142-413c-8615-f09e42c5e962",
   "metadata": {},
   "source": [
    "# Further Exploration\n",
    "\n",
    "Lets look through some more APIs that are out there.\n",
    "\n",
    "https://github.com/public-apis/public-apis"
   ]
  },
  {
   "cell_type": "code",
   "execution_count": null,
   "id": "5f5978b5-6055-46bb-a5f8-dee40d0d31c1",
   "metadata": {},
   "outputs": [],
   "source": []
  }
 ],
 "metadata": {
  "kernelspec": {
   "display_name": "Python 3 (ipykernel)",
   "language": "python",
   "name": "python3"
  },
  "language_info": {
   "codemirror_mode": {
    "name": "ipython",
    "version": 3
   },
   "file_extension": ".py",
   "mimetype": "text/x-python",
   "name": "python",
   "nbconvert_exporter": "python",
   "pygments_lexer": "ipython3",
   "version": "3.9.13"
  }
 },
 "nbformat": 4,
 "nbformat_minor": 5
}
