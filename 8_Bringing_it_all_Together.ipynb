{
 "cells": [
  {
   "cell_type": "markdown",
   "id": "d18b9013-e357-457c-9e3a-298fe252ceef",
   "metadata": {},
   "source": [
    "## Section 8: Bringing it all together\n",
    "\n",
    "In the past 7 classes, we have learned many fundamental and some more advanced tools for programming in Python. Today, we will use these tools together to create something more interesting and creative.\n",
    "\n",
    "In the following program, use turtle to create a drawing with a variety of shapes. Use functions and loops to control the turtle. Feel free to review your code from past sections if you need something to start with. "
   ]
  },
  {
   "cell_type": "code",
   "execution_count": null,
   "id": "5f5978b5-6055-46bb-a5f8-dee40d0d31c1",
   "metadata": {},
   "outputs": [],
   "source": [
    "from turtle import Turtle\n",
    "yertle = Turtle()"
   ]
  },
  {
   "cell_type": "code",
   "execution_count": null,
   "id": "27d37f53",
   "metadata": {},
   "outputs": [],
   "source": [
    "# start your drawing here"
   ]
  }
 ],
 "metadata": {
  "kernelspec": {
   "display_name": "Python 3 (ipykernel)",
   "language": "python",
   "name": "python3"
  },
  "language_info": {
   "codemirror_mode": {
    "name": "ipython",
    "version": 3
   },
   "file_extension": ".py",
   "mimetype": "text/x-python",
   "name": "python",
   "nbconvert_exporter": "python",
   "pygments_lexer": "ipython3",
   "version": "3.9.13"
  }
 },
 "nbformat": 4,
 "nbformat_minor": 5
}
