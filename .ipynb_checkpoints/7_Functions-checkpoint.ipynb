{
 "cells": [
  {
   "cell_type": "markdown",
   "metadata": {},
   "source": [
    "## Section 6 Review\n",
    "\n",
    "Use turtle to create a regular polygon with an arbitrary number of sides:"
   ]
  },
  {
   "cell_type": "code",
   "execution_count": 1,
   "metadata": {},
   "outputs": [],
   "source": [
    "from turtle import Turtle\n",
    "yertle = Turtle()"
   ]
  },
  {
   "cell_type": "code",
   "execution_count": 5,
   "metadata": {},
   "outputs": [],
   "source": [
    "# enter your solution here"
   ]
  },
  {
   "cell_type": "markdown",
   "metadata": {},
   "source": [
    "## Section 7: Functions\n",
    "\n",
    "Functions, also sometimesw called methods, are one of the most important tools for organizing and reusing code. A function is a way of organizing code into a block and calling it later. We have actually already used several functions, like len() and append(). But what is happening under the hood? Lets say we want to calculate the sum of a list of numbers. We can write out code to do this pretty easily:"
   ]
  },
  {
   "cell_type": "code",
   "execution_count": 1,
   "metadata": {},
   "outputs": [
    {
     "name": "stdout",
     "output_type": "stream",
     "text": [
      "21\n"
     ]
    }
   ],
   "source": [
    "nums = [1,2,3,4,5]\n",
    "sum = 0\n",
    "for i in nums:\n",
    "    sum = sum + i\n",
    "print(sum)"
   ]
  },
  {
   "cell_type": "markdown",
   "metadata": {},
   "source": [
    "What if we have another list, and we want to get the sum of that too? Without functions, we would have to copy the code and write it out again, like this:"
   ]
  },
  {
   "cell_type": "code",
   "execution_count": 2,
   "metadata": {},
   "outputs": [
    {
     "name": "stdout",
     "output_type": "stream",
     "text": [
      "15\n",
      "40\n"
     ]
    }
   ],
   "source": [
    "nums = [1,2,3,4,5]\n",
    "sum = 0\n",
    "for i in nums:\n",
    "    sum = sum + i\n",
    "print(sum)\n",
    "\n",
    "nums2 = [6,7,8,9,10]\n",
    "sum = 0\n",
    "for i in nums2:\n",
    "    sum = sum + i\n",
    "print(sum)"
   ]
  },
  {
   "cell_type": "markdown",
   "metadata": {},
   "source": [
    "This is easy enough to do with 2 lists, but as the number of lists grows, the program will become very long, and it will be hard to keep track of the variable names. For example, notice that in the second block we had to change the for loop to go through nums2 instead of nums. It is very easy to make small mistakes with things like that when copying and pasting code, especially when repeating many times. Instead of copying, we can pack the sum code into a function, and call the function multiple times:"
   ]
  },
  {
   "cell_type": "code",
   "execution_count": 4,
   "metadata": {},
   "outputs": [
    {
     "name": "stdout",
     "output_type": "stream",
     "text": [
      "15\n",
      "40\n"
     ]
    }
   ],
   "source": [
    "def sum_nums(list_of_nums):\n",
    "    sum = 0\n",
    "    for i in list_of_nums:\n",
    "        sum = sum + i\n",
    "    return sum\n",
    "\n",
    "nums = [1,2,3,4,5]\n",
    "nums2 = [6,7,8,9,10]\n",
    "print(sum_nums(nums))\n",
    "print(sum_nums(nums2))"
   ]
  },
  {
   "cell_type": "markdown",
   "metadata": {},
   "source": [
    "Now, we only have to worry about writing the sum code correctly once, and then we can reuse it as many times as needed.\n",
    "\n",
    "## Using functions\n",
    "\n",
    "We have actually been using functions for several weeks. A small number of functions such as len() are included with basic python, and many more can be found in libraries like math and turtle. Some functions, like len(), are called on their own using the following syntax:"
   ]
  },
  {
   "cell_type": "code",
   "execution_count": 5,
   "metadata": {},
   "outputs": [
    {
     "data": {
      "text/plain": [
       "5"
      ]
     },
     "execution_count": 5,
     "metadata": {},
     "output_type": "execute_result"
    }
   ],
   "source": [
    "len(nums)"
   ]
  },
  {
   "cell_type": "markdown",
   "metadata": {},
   "source": [
    "where we write the name of the function, then in parentheses the thing we want to do the function on. The name of the function is called its signature, and the things we are working on in the parentheses are called the arguments. Each function has only one signature, but can have 0, 1, or an arbitrarily large number of arguments. Some functions are called using dot notation on an object, using this syntax:"
   ]
  },
  {
   "cell_type": "code",
   "execution_count": 6,
   "metadata": {},
   "outputs": [
    {
     "name": "stdout",
     "output_type": "stream",
     "text": [
      "[1, 2, 3, 4, 5]\n",
      "[1, 2, 3, 4, 5, 6]\n"
     ]
    }
   ],
   "source": [
    "print(nums)\n",
    "nums.append(6)\n",
    "print(nums)"
   ]
  },
  {
   "cell_type": "markdown",
   "metadata": {},
   "source": [
    "## Writing our own functions\n",
    "\n",
    "To learn the syntax for writing functions, lets look again at the function we wrote earlier to take the sum of a list:\n"
   ]
  },
  {
   "cell_type": "code",
   "execution_count": null,
   "metadata": {},
   "outputs": [],
   "source": [
    "def sum_nums(list_of_nums):\n",
    "    sum = 0\n",
    "    for i in list_of_nums:\n",
    "        sum = sum + i\n",
    "    return sum"
   ]
  },
  {
   "cell_type": "markdown",
   "metadata": {},
   "source": [
    "We begin with the def keyword, which tells python that we are starting a function. The whole block of code that comes after def is called the definition. Next, we put a space followed by the function name. After the function name, we put parentheses, and inside these parentheses come the inputs to the function. We can have as many of these as we need, and these inputs are called arguments. After the arguments, we put a colon and start a new line with an indent. The indented block contains the code that defines what the function does. When we have finished defining the function, we remove the indent to start a different section of code. \n",
    "\n",
    "## Practice\n",
    "\n",
    "Write a function to find the area of a triangle (Remember that the area of a triangle is 1/2 * base * height), and use it to find the area of 2 different triangles:"
   ]
  },
  {
   "cell_type": "code",
   "execution_count": null,
   "metadata": {},
   "outputs": [],
   "source": [
    "base = \n",
    "height = \n",
    "\n",
    "def "
   ]
  }
 ],
 "metadata": {
  "kernelspec": {
   "display_name": "Python 3",
   "language": "python",
   "name": "python3"
  },
  "language_info": {
   "codemirror_mode": {
    "name": "ipython",
    "version": 3
   },
   "file_extension": ".py",
   "mimetype": "text/x-python",
   "name": "python",
   "nbconvert_exporter": "python",
   "pygments_lexer": "ipython3",
   "version": "3.13.1"
  }
 },
 "nbformat": 4,
 "nbformat_minor": 2
}
