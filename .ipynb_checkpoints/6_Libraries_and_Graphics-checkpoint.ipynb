{
 "cells": [
  {
   "cell_type": "markdown",
   "metadata": {},
   "source": [
    "## Section 5 Review\n",
    "\n",
    "Print \"Hello World\" 9 times using a for loop and 7 times using a while loop."
   ]
  },
  {
   "cell_type": "code",
   "execution_count": 1,
   "metadata": {},
   "outputs": [
    {
     "name": "stdout",
     "output_type": "stream",
     "text": [
      "Hello world\n"
     ]
    }
   ],
   "source": [
    "print(\"Hello world\")"
   ]
  },
  {
   "cell_type": "markdown",
   "metadata": {},
   "source": [
    "## Section 6: Introduction to Libraries and Graphics\n",
    "\n",
    "So far, we have covered how to use logical and mathematical operations to make statements, different types and data structures to store information, and control structures such as loops and if statements. These constitute the fundamental building blocks of a programming language, and using just these you can write a program to do almost anything. Statements, data types, and control structures will make up the bulk of almost any program you write. But what if we want to do somethinv very complex, or need to write a very large program? In this notebook and the next, we will cover two strategies for organizing and breaking down programs: libraries and functions.\n",
    "\n",
    "## Libraries\n",
    "\n",
    "Libraries, also called packages, are a way of importing code someone has already written and using it in our program to save time. Say we want to write a program to find the factorial of a number. Python does not have an operator for this like the multiply or exponent operators. We could write out the code ourselves. "
   ]
  }
 ],
 "metadata": {
  "kernelspec": {
   "display_name": "Python 3",
   "language": "python",
   "name": "python3"
  },
  "language_info": {
   "codemirror_mode": {
    "name": "ipython",
    "version": 3
   },
   "file_extension": ".py",
   "mimetype": "text/x-python",
   "name": "python",
   "nbconvert_exporter": "python",
   "pygments_lexer": "ipython3",
   "version": "3.13.1"
  }
 },
 "nbformat": 4,
 "nbformat_minor": 2
}
