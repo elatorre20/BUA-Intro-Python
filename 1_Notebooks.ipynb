{
 "cells": [
  {
   "cell_type": "markdown",
   "id": "3a613229-748e-4e60-b1a9-ffdc031445cd",
   "metadata": {},
   "source": [
    "# Welcome!\n",
    "\n",
    "Hello and welcome to (potentially) your first look at Jupyter Notebook! This guide will hopefully provide insight into how to use Jupyter Notebooks and where you may find them helpful. Feel free to refer back to this guide whenever you need!\n",
    "\n",
    "## What Are Jupyter Notebooks?\n",
    "\n",
    "Jupyter Notebooks (sometimes just called Notebooks) are tools for visually working with Python. They are commonly used by data scientists, AI engineers, or any other technical professional who may need to visualize the results of pieces of their code as it executes.\n",
    "\n",
    "## Why are we using Jupyter Notebooks?\n",
    "\n",
    "Working in Notebooks allaows for more easily chunking together pieces of code and quickly seeing the result of these smaller components. For this program, using Notebooks will allow us to more easily focus on smaller units of code and discuss what they are doing."
   ]
  },
  {
   "cell_type": "markdown",
   "id": "c5b99460-f655-41fa-8fec-05d85913b57f",
   "metadata": {},
   "source": [
    "# Section 1 Cells\n",
    "\n",
    "\"Cells\" are how Jupyter breaks down either code or documentation (like this cell) into smaller pieces. In this section you will see how to make and \"run\" cells.\n",
    "\n",
    "## Documentation Cells\n",
    "\n",
    "One kind of cell (the kind of cell this text is in) is used for documentation, a way to provide additional information in your Notebook that isn't code. This documentation is written in \"Markdown\" (one method of structuring text). If you double click on this cell, you can see the Markdown that was written to generate this text. For this program we will not go into Markdown, but it is good to know that it exists and is supported in Jupyter Notebooks.\n",
    "\n",
    "Feel free to try to manipulate the text and see how the cell changes.\n",
    "\n",
    "## Code Cells\n",
    "\n",
    "The other type of cells are \"Code Cells\" which contain Python code that can be run. We will have a crash course in Python in another section. For now we will just focus on how to run code in our Notebook, and see some of the power given to us by Jupyter Notebooks.\n",
    "\n",
    "Bellow is our first code cell. It has a piece of Python code that will print out \"Hello World\". Click on the cell, then press the play button to have the code run.\n"
   ]
  },
  {
   "cell_type": "code",
   "execution_count": null,
   "id": "ec9065f7-303f-4487-9e44-d220fe8f93ad",
   "metadata": {
    "tags": []
   },
   "outputs": [],
   "source": [
    "print(\"Hello World\")"
   ]
  },
  {
   "cell_type": "markdown",
   "id": "d9b6686f-3900-46c9-b909-37843c88842f",
   "metadata": {},
   "source": [
    "You will notice that the result is shown below the cell. That is where all output will be presented. Code cells generally should be kept pretty short and contain just enough code needed to accomplish a single task. What that task is will depende on what you are writting. Generally its enough to get to the next \"interesting\" output, something that maybe part of a larger analysis, or even the end result.\n",
    "\n",
    "Below is a code snippet showing how Jupyter Notebook can even visualize things like graphs. Don't worry about how the code works for now. But if you are already familiar with Python, see if you can predict the output before running the cell below."
   ]
  },
  {
   "cell_type": "code",
   "execution_count": 1,
   "id": "36117234-b3b4-4555-abc0-88eb08371730",
   "metadata": {
    "tags": []
   },
   "outputs": [
    {
     "data": {
      "text/plain": [
       "[<matplotlib.lines.Line2D at 0x7f55f0fadfa0>]"
      ]
     },
     "execution_count": 1,
     "metadata": {},
     "output_type": "execute_result"
    },
    {
     "data": {
      "image/png": "[encoded data removed]",
      "text/plain": [
       "<Figure size 640x480 with 1 Axes>"
      ]
     },
     "metadata": {},
     "output_type": "display_data"
    }
   ],
   "source": [
    "import numpy as np\n",
    "import matplotlib.pyplot as plt\n",
    "\n",
    "start = 0\n",
    "stop = 5\n",
    "num_points = 10\n",
    "\n",
    "x_points = np.linspace(start, stop, num=num_points)\n",
    "y_points = x_points * 2\n",
    "\n",
    "plt.plot(x_points, y_points)\n"
   ]
  },
  {
   "cell_type": "markdown",
   "id": "84cef461-5195-4b4b-92dc-8fbef31464b6",
   "metadata": {},
   "source": [
    "### Order Matters!\n",
    "\n",
    "Now that we have see how to execute code cells, something important to note is that the order you run the cells matters a lot. Below are two code cells. The first sets a variable `x` to 5. The second prints the value of `x` + 1.\n",
    "\n",
    "Run the first cell then the second cell."
   ]
  },
  {
   "cell_type": "code",
   "execution_count": 5,
   "id": "bdfe3fb7-0045-4c7f-b7c8-008a00cc9c1e",
   "metadata": {
    "tags": []
   },
   "outputs": [],
   "source": [
    "x = 12"
   ]
  },
  {
   "cell_type": "code",
   "execution_count": 6,
   "id": "ea7f5527-51b0-460e-b125-73d054ebe480",
   "metadata": {
    "tags": []
   },
   "outputs": [
    {
     "name": "stdout",
     "output_type": "stream",
     "text": [
      "13\n"
     ]
    }
   ],
   "source": [
    "print(x + 1)"
   ]
  },
  {
   "cell_type": "markdown",
   "id": "661cea21-c38a-4ed1-87db-a598aab12735",
   "metadata": {},
   "source": [
    "Now click in the first cell and change `5` to `10`. _Don't_ run the first cell. But only run the second cell. What result do you get?\n",
    "\n",
    "Now run the first cell, followed by the second cell. You should now see the expected result. If you make a change to a previous cell, then you also need to re-run all the following cells for the change to take effect. You will forget this (because everyone does). However, hopefully when a result doesn't make sense, you'll remember this section."
   ]
  }
 ],
 "metadata": {
  "kernelspec": {
   "display_name": "Python 3 (ipykernel)",
   "language": "python",
   "name": "python3"
  },
  "language_info": {
   "codemirror_mode": {
    "name": "ipython",
    "version": 3
   },
   "file_extension": ".py",
   "mimetype": "text/x-python",
   "name": "python",
   "nbconvert_exporter": "python",
   "pygments_lexer": "ipython3",
   "version": "3.9.13"
  }
 },
 "nbformat": 4,
 "nbformat_minor": 5
}
