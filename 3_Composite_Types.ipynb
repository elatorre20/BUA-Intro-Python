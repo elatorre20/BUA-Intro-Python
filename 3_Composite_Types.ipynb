{
 "cells": [
  {
   "cell_type": "markdown",
   "id": "daf043df-32b8-4a00-887b-3d914f3534c1",
   "metadata": {},
   "source": [
    "# Section 2 Review\n",
    "\n",
    "Create variables to store the following information on a city of your choice.\n",
    "\n",
    "1. The name of the city\n",
    "2. The total number of people living in the city (Google)\n",
    "3. The total area of the city (Google)\n",
    "\n",
    "Now, find out the average number of people per area using Python and store that value in another variables"
   ]
  },
  {
   "cell_type": "code",
   "execution_count": null,
   "id": "e40ef672-f36c-4b73-85b4-13643254f9de",
   "metadata": {},
   "outputs": [],
   "source": []
  },
  {
   "cell_type": "markdown",
   "id": "ece39e51-f043-438a-9f20-a1edcb3c7131",
   "metadata": {},
   "source": [
    "# Section 3 Composite Types\n",
    "\n",
    "So far we have learned about storing single pieces of data in a variable. For example, above we made variables for storing 4 different values in total across 4 variables, it would be nice to be able to store multiple values that are associated together in a single variables.\n",
    "\n",
    "This brings us to \"Composite Types\".\"Composite\" just means that it is made up of other sub-components."
   ]
  },
  {
   "cell_type": "markdown",
   "id": "89d497b2-950f-471f-ab4a-a2ca1d0f9518",
   "metadata": {},
   "source": [
    "## Lists\n",
    "\n",
    "The first composite type we will talk about are \"lists\". Lists represent a a series of elements. You can think of it just like normal every day lists.\n",
    "\n",
    "For example, a grocery list is just a series of things you want to pick up from the store. For an attendence list, it is a list of students attending a class. A Python list is the same, it stores a series of values and provides operations for working on these lists.\n",
    "\n",
    "Below is an example of how to create a list in Python. In this case, it is a grocery list. \n",
    "\n",
    "Can you tell what Python type the list is made up of?"
   ]
  },
  {
   "cell_type": "code",
   "execution_count": null,
   "id": "d6871594-4a48-441c-819f-affd75c4254d",
   "metadata": {},
   "outputs": [],
   "source": [
    "groceries = ['Apples', 'Carrots', 'Chicken', 'Soup']\n",
    "groceries"
   ]
  },
  {
   "cell_type": "markdown",
   "id": "80977276-2bf9-429d-aa2a-ecf60d776b93",
   "metadata": {},
   "source": [
    "### Accessing an element in the list\n",
    "\n",
    "Each item in the list we usually refer to as an \"element\". In the example above, we have four elements that make up our list.\n",
    "\n",
    "It would be nice to access each element. Python gives us that ability using the square bracket notiation `[]`. Below is how to access the first element in the list."
   ]
  },
  {
   "cell_type": "code",
   "execution_count": null,
   "id": "5ac4de0e-4bb0-49fe-b8ad-0ad9b769eeb9",
   "metadata": {},
   "outputs": [],
   "source": [
    "first_element = groceries[0]\n",
    "first_element"
   ]
  },
  {
   "cell_type": "markdown",
   "id": "11c851eb-d7ad-4a49-9393-0f6567185fa7",
   "metadata": {},
   "source": [
    "Python follows a process known as \"0 indexing\". Indexing refers to how we access elements in the list, \"0 indexed\" means our first element is represented by index \"0\", our second by \"1\", and so on.\n",
    "\n",
    "Below, we manually access each element in the list and print it out"
   ]
  },
  {
   "cell_type": "code",
   "execution_count": null,
   "id": "f2dcd503-9ea7-4ece-879c-f3942b03c3fd",
   "metadata": {},
   "outputs": [],
   "source": [
    "print(groceries[0])\n",
    "print(groceries[1])\n",
    "print(groceries[2])\n",
    "print(groceries[3])"
   ]
  },
  {
   "cell_type": "markdown",
   "id": "dd9bb680-60ec-43d5-a4fd-abcf49603e20",
   "metadata": {},
   "source": [
    "As you can see in the two above examples, each element in the list acts like any other value in Python. This means we can combine operations like concatenation."
   ]
  },
  {
   "cell_type": "code",
   "execution_count": null,
   "id": "e5f56578-209c-4854-a63f-7cdabf8eeee3",
   "metadata": {},
   "outputs": [],
   "source": [
    "print('The first value in my list is \"' + groceries[0] + '\"')"
   ]
  },
  {
   "cell_type": "markdown",
   "id": "c3aa2f8c-7877-4a13-a06f-16f80ef79d0c",
   "metadata": {},
   "source": [
    "We can make lists of other types as well and operate on them in a similar way. What do you think the output from the code below is?"
   ]
  },
  {
   "cell_type": "code",
   "execution_count": null,
   "id": "efc52096-8279-41bc-85e1-eb55438880ec",
   "metadata": {},
   "outputs": [],
   "source": [
    "numbers = [1, 2, 3]\n",
    "numbers[0] + numbers[1]"
   ]
  },
  {
   "cell_type": "markdown",
   "id": "845f20eb-8cd9-4a2c-876e-c9cbd2920d4d",
   "metadata": {},
   "source": [
    "Note. Python doesn't allow you to access something that doesn't exist, if you run the code below you will get an error."
   ]
  },
  {
   "cell_type": "code",
   "execution_count": null,
   "id": "414a4766-4a6e-4819-8b71-daab959ec3c4",
   "metadata": {},
   "outputs": [],
   "source": [
    "numbers = [4, 5, 6]\n",
    "numbers[4]"
   ]
  },
  {
   "cell_type": "markdown",
   "id": "ea47daf4-69b7-47e5-b3b0-0d138d716381",
   "metadata": {},
   "source": [
    "### Finding out the length of a list\n",
    "\n",
    "It can be helpful to find out how long our list is. We will see in future lessons that sometimes we won't know the length of an array just by looking at it, but will need to figure out how long it is in code. Luckily Python gives us the `len` function which tells us the length of something."
   ]
  },
  {
   "cell_type": "code",
   "execution_count": null,
   "id": "ae30390f-345f-4f78-b29e-d1052d14803f",
   "metadata": {},
   "outputs": [],
   "source": [
    "my_list = ['hello', 'there']\n",
    "len(my_list)"
   ]
  },
  {
   "cell_type": "markdown",
   "id": "1da204a7-1de5-4e35-b459-2d4750283701",
   "metadata": {},
   "source": [
    "We will combine `len` with other operations to build up more complex code.\n",
    "\n",
    "Try it yourself, make a list of values in a variables `grades`, have the list container four values. Calculate the average number from the list."
   ]
  },
  {
   "cell_type": "code",
   "execution_count": null,
   "id": "95df07aa-d28d-4654-a781-8bd75a4c353a",
   "metadata": {},
   "outputs": [],
   "source": []
  },
  {
   "cell_type": "markdown",
   "id": "a34711d7-4742-42cf-bd17-16fe63c3506f",
   "metadata": {},
   "source": [
    "## Dictionaries\n",
    "\n",
    "What if we want to store something more complex? Where the data isn't represented well as a series of elements, but as some other sort of relationship?\n",
    "\n",
    "Dictionaries allow us to store values via \"key-value pairs\". What that means is that instead of using an index (a integer value) to access a value, we can access values using other kinds of values.\n",
    "\n",
    "Think along the lines of a physical dictionary. If you look up the word \"animal\" you get a definition. \"animal\" is your key and the definition your value. Below is an example of manually creating a dictionary that operates like a real world dictionary."
   ]
  },
  {
   "cell_type": "code",
   "execution_count": null,
   "id": "11f6024d-1893-4d30-8d63-01cb84b10cd7",
   "metadata": {},
   "outputs": [],
   "source": [
    "my_dictionary = {\n",
    "    'animal': 'any member of the kingdom Animalia, comprising multicellular organisms that have a well-defined shape and usually limited growth, can move voluntarily, actively acquire food and digest it internally, and have sensory and nervous systems that allow them to respond rapidly to stimuli: some classification schemes also include protozoa and certain other single-celled eukaryotes that have motility and animallike nutritional modes.',\n",
    "    'flower': 'the blossom of a plant.',\n",
    "    'cat': 'a small domesticated carnivore, Felis domestica or F. catus, bred in a number of varieties.'\n",
    "}\n",
    "\n",
    "my_dictionary"
   ]
  },
  {
   "cell_type": "markdown",
   "id": "bd63919c-cd49-4bcf-8fd0-caadb18cb96c",
   "metadata": {},
   "source": [
    "From what you have seen with lists, what things seem similar to how we made `my_dictionary`? What things are different?"
   ]
  },
  {
   "cell_type": "markdown",
   "id": "f3a05c40-fffd-4a03-afff-91f32d84ac84",
   "metadata": {},
   "source": [
    "### Accessing an element of a dictionary\n",
    "\n",
    "Instead of using indicies like we did with lists, use index using the \"keys\". In the example above, our keys are `animal`, `flower`, and `cat`. The keys are what come before the color (`:`)."
   ]
  },
  {
   "cell_type": "code",
   "execution_count": null,
   "id": "2736290d-4939-478b-8667-ada85b3b3cbb",
   "metadata": {},
   "outputs": [],
   "source": [
    "my_dictionary['flower']"
   ]
  },
  {
   "cell_type": "markdown",
   "id": "a7af0bc6-fb84-49f9-9618-f8ae41b1dd64",
   "metadata": {},
   "source": [
    "We use a very similar notation we used for accessing elements of a list, but now we use our keys. Just like before, trying to access something that doesn't exist will give us an error."
   ]
  },
  {
   "cell_type": "code",
   "execution_count": null,
   "id": "ee6db958-bfb8-4815-87ab-36dc2bd9d656",
   "metadata": {},
   "outputs": [],
   "source": [
    "my_dictionary['funny']"
   ]
  },
  {
   "cell_type": "markdown",
   "id": "d7355840-1836-48d3-bfd9-eda70e9280f6",
   "metadata": {},
   "source": [
    "### Finding out if a key exists\n",
    "\n",
    "Since we get an error if we try to access something that doesn't exist, it's nice to have a way to check if the key is actually in the dictionary. In Python, there is a way to do that."
   ]
  },
  {
   "cell_type": "code",
   "execution_count": null,
   "id": "22cdf47f-a45d-46d6-b05d-70b03c49e905",
   "metadata": {},
   "outputs": [],
   "source": [
    "'funny' in my_dictionary"
   ]
  },
  {
   "cell_type": "markdown",
   "id": "d1c6fa9d-d3ab-4543-affe-59aadc16ea09",
   "metadata": {},
   "source": [
    "What type is returned from the code above?"
   ]
  },
  {
   "cell_type": "markdown",
   "id": "404863b4-3b8b-4333-bd65-c59b18096c96",
   "metadata": {},
   "source": [
    "### Getting all keys\n",
    "\n",
    "Another useful feature is the ability to get all the keys that are in the dictionary. Below is an example of how to do that."
   ]
  },
  {
   "cell_type": "code",
   "execution_count": null,
   "id": "c5397735-867c-4305-9b4a-977dd085607b",
   "metadata": {},
   "outputs": [],
   "source": [
    "my_dictionary.keys()"
   ]
  },
  {
   "cell_type": "markdown",
   "id": "2e353f09-66df-4d68-93a2-694a6b878b4c",
   "metadata": {},
   "source": [
    "In future lessons, we will combine these features together to write more advanced code."
   ]
  },
  {
   "cell_type": "markdown",
   "id": "1dbce091-d31a-48c1-997c-16e15b301fe4",
   "metadata": {},
   "source": [
    "### Complex Dictionaries\n",
    "\n",
    "Dictionaries can get complex, we can use different types for our keys, the values can get very advanced. Below is a complex example of a dictionary. That represents a city."
   ]
  },
  {
   "cell_type": "code",
   "execution_count": null,
   "id": "e184d35c-0786-4600-ab82-ede854257f1b",
   "metadata": {},
   "outputs": [],
   "source": [
    "my_dictionary = {\n",
    "    'name': 'Boston',\n",
    "    'population': 654776,\n",
    "    'area': 89.63,\n",
    "    'universities': {\n",
    "        'Boston University': {\n",
    "            'students':  37557,\n",
    "            'majors': ['Computer Science', 'Biology', 'History', 'Math']\n",
    "        },\n",
    "        'MIT': {\n",
    "            'students':  11858,\n",
    "            'majors': ['Computer Science', 'Biology', 'History', 'Math', 'Robotics']\n",
    "        },\n",
    "        'Harvard': {\n",
    "            'students':   25266,\n",
    "            'majors': ['Law', 'Biology', 'History', 'Math', 'Robotics']\n",
    "        },    \n",
    "    }\n",
    "}"
   ]
  },
  {
   "cell_type": "markdown",
   "id": "30b5e30f-6378-4d24-a29a-ab900060f426",
   "metadata": {},
   "source": [
    "Let's try accessing values from the dictionary."
   ]
  },
  {
   "cell_type": "code",
   "execution_count": null,
   "id": "b001059a-a6c0-4e59-99ea-4011e57b78d1",
   "metadata": {},
   "outputs": [],
   "source": []
  },
  {
   "cell_type": "markdown",
   "id": "05f5d848-60a5-4a18-ba65-86040e14f59d",
   "metadata": {},
   "source": [
    "Now create a dictionary to store values related to you. Have it store the following.\n",
    "\n",
    "1. Your name\n",
    "2. Age\n",
    "3. List of current subjects"
   ]
  },
  {
   "cell_type": "code",
   "execution_count": null,
   "id": "91861b9b-a0ea-46fc-a80c-b8a9cf1c6c8e",
   "metadata": {},
   "outputs": [],
   "source": []
  }
 ],
 "metadata": {
  "kernelspec": {
   "display_name": "Python 3 (ipykernel)",
   "language": "python",
   "name": "python3"
  },
  "language_info": {
   "codemirror_mode": {
    "name": "ipython",
    "version": 3
   },
   "file_extension": ".py",
   "mimetype": "text/x-python",
   "name": "python",
   "nbconvert_exporter": "python",
   "pygments_lexer": "ipython3",
   "version": "3.9.13"
  }
 },
 "nbformat": 4,
 "nbformat_minor": 5
}
