{
 "cells": [
  {
   "cell_type": "markdown",
   "id": "cfdd844a-b7a2-4a96-9551-70dc3fecee74",
   "metadata": {},
   "source": [
    "# Section 3 Review\n",
    "\n",
    "From the dictionary below, calculate the average temperature for New York City."
   ]
  },
  {
   "cell_type": "code",
   "execution_count": 1,
   "id": "bada6826-1157-4400-90fb-fb47eae6b5e9",
   "metadata": {
    "tags": []
   },
   "outputs": [],
   "source": [
    "weather_info = {\n",
    "    'Boston': {\n",
    "        'temp_high': 63,\n",
    "        'temp_low': 57\n",
    "    },\n",
    "    'NYC': {\n",
    "        'temp_high': 65,\n",
    "        'temp_low': 49\n",
    "    }\n",
    "}"
   ]
  },
  {
   "cell_type": "code",
   "execution_count": null,
   "id": "fa752f0f-c91c-4707-a7cd-7d96869701af",
   "metadata": {},
   "outputs": [],
   "source": []
  },
  {
   "cell_type": "markdown",
   "id": "1839bf5f-783f-4c2e-bec9-eb02ff37ffa5",
   "metadata": {
    "tags": []
   },
   "source": [
    "# Section 4 Control Structures\n",
    "\n",
    "So far all the code we have written has been fairly \"linear\". What we mean by that is the code executes following one straight path where each the code runs line-by-line.\n",
    "\n",
    "That's fine for things like operating on simple math problems, but what if we want our code to not run in a straight line path? How would we do something printing the city with the highest temperature? How would we have code that runs multiple times? This is where control structures come into play.\n",
    "\n",
    "Control structures refer to the methods Python gives us to control what code is execute and how many times. This will take our simple line-by-line code to a more complicated level.\n"
   ]
  },
  {
   "cell_type": "markdown",
   "id": "b0e65253-788c-45df-9203-d261fe8429a5",
   "metadata": {},
   "source": [
    "## If/Elif/Else\n",
    "\n",
    "The first control structures we will talk about are conditional statements. This lets us have code that runs only if a certain condition is met. Conditions are statements that result in a true/false value (what type is that?).\n",
    "\n",
    "Take the following use case for example.\n",
    "\n",
    "> We need a program that will calculate the final grade a student has received. The student may have received extra crediate on some assignments, but the grade cannot exceed 100%. How do we make sure the final result is less then 100%?\n",
    "\n",
    "### Conditions\n",
    "In order to tackle this problem, lets first talk about conditionals. Conditionals as mentioned are statements that return true or false. One of the most common ways to work with conditions is checking mathematical expressions. For example `6 > 5` is true. Below is a table showing some common comparisons.\n",
    "\n",
    "| Expression in Python | Purpose                             |\n",
    "|----------------------|-------------------------------------|\n",
    "| `x == y`             | Equality (if two numbers are equal) |\n",
    "| `x > y`              | Greater than                        |\n",
    "| `x >= y`             | Greater or equal to                 |\n",
    "| `x < y`              | Less than                           |\n",
    "| `x <= y`             | Less than or equal                  |\n",
    "\n",
    "Play around with the examples below.\n"
   ]
  },
  {
   "cell_type": "code",
   "execution_count": 3,
   "id": "0720e2ba-93ba-45ac-b923-2be009d71894",
   "metadata": {
    "tags": []
   },
   "outputs": [
    {
     "name": "stdout",
     "output_type": "stream",
     "text": [
      "True\n",
      "False\n",
      "False\n",
      "True\n"
     ]
    }
   ],
   "source": [
    "x = 5\n",
    "y = 6\n",
    "print(x == 5)\n",
    "print(x == y)\n",
    "print(x > y)\n",
    "print(x <= y)"
   ]
  },
  {
   "cell_type": "markdown",
   "id": "6a9c62f5-2217-4a33-9906-492644b9f09a",
   "metadata": {},
   "source": [
    "We can also combine these conditions together to form bigger conditions. For example, what if we want to check if `x` is between two numbers? We can combine conditions together using the following Python operations.\n",
    "\n",
    "| Operation | Purpose                                    |\n",
    "|-----------|--------------------------------------------|\n",
    "| `and`     | Both conditions need to be true            |\n",
    "| `or`      | Either condition (or both) need to be true |\n",
    "| `not`     | Change true to false and false to true     |\n",
    "\n",
    "Below are some examples"
   ]
  },
  {
   "cell_type": "code",
   "execution_count": 6,
   "id": "e04f2d25-fcd8-4b93-afa3-a95acb600ebe",
   "metadata": {
    "tags": []
   },
   "outputs": [
    {
     "name": "stdout",
     "output_type": "stream",
     "text": [
      "False\n",
      "True\n",
      "True\n"
     ]
    }
   ],
   "source": [
    "print(x > 5 and x < 10)\n",
    "print(x > 5 or x < 10)\n",
    "print(not x > 5)"
   ]
  },
  {
   "cell_type": "markdown",
   "id": "514cdff6-a0c5-4ca1-8c39-662d62fb1497",
   "metadata": {},
   "source": [
    "Now try it out yourself, write three statements that evaluate to true and three statements that evaluate to false."
   ]
  },
  {
   "cell_type": "code",
   "execution_count": null,
   "id": "bb8ce9fc-1cc9-4c06-bcff-bb6a870addf6",
   "metadata": {},
   "outputs": [],
   "source": []
  },
  {
   "cell_type": "markdown",
   "id": "36dd894e-3f1b-4965-a9a5-63c4b4c6307b",
   "metadata": {},
   "source": [
    "### If Blocks\n",
    "\n",
    "Now that we know how to write conditionals, we can use this to have code that runs differently depending on a condition. Below is a simple example"
   ]
  },
  {
   "cell_type": "code",
   "execution_count": 7,
   "id": "fa9666e3-c538-4f04-a32a-e3361526a290",
   "metadata": {
    "tags": []
   },
   "outputs": [
    {
     "name": "stdout",
     "output_type": "stream",
     "text": [
      "x was changed\n"
     ]
    },
    {
     "data": {
      "text/plain": [
       "6"
      ]
     },
     "execution_count": 7,
     "metadata": {},
     "output_type": "execute_result"
    }
   ],
   "source": [
    "x = 5\n",
    "\n",
    "if x == 5:\n",
    "    x = 6\n",
    "    print('x was changed')\n",
    "x"
   ]
  },
  {
   "cell_type": "markdown",
   "id": "b66f15c4-18a8-419b-af6c-23c32e5947f5",
   "metadata": {},
   "source": [
    "### Elif Blocks\n",
    "\n",
    "We can also chain together if blocks using `elif`. Below is an example"
   ]
  },
  {
   "cell_type": "code",
   "execution_count": 8,
   "id": "8c91aa5b-8939-4a07-807e-f7f7ba82ac21",
   "metadata": {
    "tags": []
   },
   "outputs": [],
   "source": [
    "porridge_temp = 100\n",
    "\n",
    "if porridge_temp > 120:\n",
    "    print('Too hot')\n",
    "elif porridge_temp < 50:\n",
    "    print('Too cold')"
   ]
  },
  {
   "cell_type": "markdown",
   "id": "90ccf926-328e-4f8f-809d-6c0073877907",
   "metadata": {},
   "source": [
    "We can keep adding `elif` blocks as needed."
   ]
  },
  {
   "cell_type": "markdown",
   "id": "8f9ae11b-0301-49bf-a1e8-c8e13139c772",
   "metadata": {},
   "source": [
    "### Else Blocks\n",
    "\n",
    "If we want something to run if all of our `if` and `elif` blocks fail, we can use an else block"
   ]
  },
  {
   "cell_type": "code",
   "execution_count": 9,
   "id": "d40803d8-ad2c-4782-a051-5c8f017edd4d",
   "metadata": {
    "tags": []
   },
   "outputs": [
    {
     "name": "stdout",
     "output_type": "stream",
     "text": [
      "Just right\n"
     ]
    }
   ],
   "source": [
    "porridge_temp = 100\n",
    "\n",
    "if porridge_temp > 120:\n",
    "    print('Too hot')\n",
    "elif porridge_temp < 50:\n",
    "    print('Too cold')\n",
    "else:\n",
    "    print('Just right')"
   ]
  },
  {
   "cell_type": "markdown",
   "id": "0adb2002-5b83-4da4-9437-1405ae739f79",
   "metadata": {},
   "source": [
    "We can chain together these statements to make more complex logic. Below we convert a percentage to a letter grade."
   ]
  },
  {
   "cell_type": "code",
   "execution_count": 12,
   "id": "0b5564ea-aba0-4afe-adf9-6c9651d6cf99",
   "metadata": {
    "tags": []
   },
   "outputs": [
    {
     "name": "stdout",
     "output_type": "stream",
     "text": [
      "C\n"
     ]
    }
   ],
   "source": [
    "grade = 75\n",
    "letter_grade = ''\n",
    "\n",
    "if grade >= 90:\n",
    "    letter_grade = 'A'\n",
    "elif grade >= 80:\n",
    "    letter_grade = 'B'\n",
    "elif grade >= 70:\n",
    "    letter_grade = 'C'\n",
    "elif grade >= 60:\n",
    "    letter_grade = 'D'\n",
    "else:\n",
    "    letter_grade = 'F'\n",
    "    \n",
    "print(letter_grade)"
   ]
  },
  {
   "cell_type": "markdown",
   "id": "a40446a6-3e93-4902-a546-b772de5a4f60",
   "metadata": {},
   "source": [
    "Why don't I have to have multiple conditions for letter grades?\n",
    "For example for `B` why didn't I have to write `grade < 90 and grade >= 80`?"
   ]
  },
  {
   "cell_type": "markdown",
   "id": "ef538d4f-fe89-4429-9731-674383eda9af",
   "metadata": {},
   "source": [
    "Now try to solve the problem we talked about at the begining of class, ensure that the final average for the following grades is at most 100 using conditions and if statements."
   ]
  },
  {
   "cell_type": "code",
   "execution_count": 20,
   "id": "c83a1db2-9a5e-4203-a9c5-5e83afa2f638",
   "metadata": {
    "tags": []
   },
   "outputs": [],
   "source": [
    "grades = [100, 102, 95, 110]"
   ]
  },
  {
   "cell_type": "code",
   "execution_count": null,
   "id": "d65a24d4-371e-4936-a654-eaada8ad331c",
   "metadata": {},
   "outputs": [],
   "source": []
  }
 ],
 "metadata": {
  "kernelspec": {
   "display_name": "Python 3 (ipykernel)",
   "language": "python",
   "name": "python3"
  },
  "language_info": {
   "codemirror_mode": {
    "name": "ipython",
    "version": 3
   },
   "file_extension": ".py",
   "mimetype": "text/x-python",
   "name": "python",
   "nbconvert_exporter": "python",
   "pygments_lexer": "ipython3",
   "version": "3.9.13"
  }
 },
 "nbformat": 4,
 "nbformat_minor": 5
}
