{
 "cells": [
  {
   "cell_type": "markdown",
   "id": "aaa8ee7b-8233-4953-9c69-b71d7dbd9bf8",
   "metadata": {},
   "source": [
    "# Section 5 Review\n",
    "\n",
    "We have for loops and if statements separately, now lets try putting them together. Based on the list provided, write code to determine what the maximum number in the list is. You have to use a loop, if statement, and your code has to work with any list. You can assume for simplicity that the numbers are all greather than 0 "
   ]
  },
  {
   "cell_type": "code",
   "execution_count": 2,
   "id": "897bddbf-9797-45b5-8e94-ff028bbc0ca7",
   "metadata": {},
   "outputs": [],
   "source": [
    "numbers = [4, 87, 23, 22, 45]"
   ]
  },
  {
   "cell_type": "markdown",
   "id": "50d76c40-258b-4d56-80f9-a12205d29a52",
   "metadata": {},
   "source": [
    "# Section 6.5 Libraries and Functions\n",
    "\n",
    "At this point we know the basic foundations of Python. We can start to write more complex programs. There are times however, when we don't want to write something from scratch that someone else has done. Instead of just copy and pasting work we can use these sections of code that someone has written these re-usable pieces of code are called libraries. These libraries are typically made up of functions which are pieces of code wrapped up in a way that we can \"call them\" multiple times. An example of a function is the `len` function which we have used to find the length of a list. Can you think of any other functions we have looked at?\n",
    "\n",
    "```python\n",
    "len(numbers)\n",
    "```\n",
    "\n",
    "We can import libraries which will give us access to their functions. During this seminar we won't talk about creating functions, but we can still use them. Below is a basic example of using the Python provided `math` library.\n"
   ]
  },
  {
   "cell_type": "code",
   "execution_count": 2,
   "id": "89909f7d-c910-4f7b-80c0-3d75e20d3c5e",
   "metadata": {},
   "outputs": [
    {
     "data": {
      "text/plain": [
       "10"
      ]
     },
     "execution_count": 2,
     "metadata": {},
     "output_type": "execute_result"
    }
   ],
   "source": [
    "import math\n",
    "math.gcd(50, 40, 60, 70)"
   ]
  },
  {
   "cell_type": "markdown",
   "id": "d164ae14-9886-41c0-8a91-34a53eec3e12",
   "metadata": {},
   "source": [
    "Calling the function involved the form `function_name(parameter1, parameter2, ...)`. Some functions take no parameters and some functions will give back or \"return\" a value such as `math.gcd` shown above. For this seminar we can just accept functions are existing blocks of code that bundles up more complex logic. Whats happening inside a function breaks down into the basic concepts we have already learned about. Below are some custom functions we will use."
   ]
  },
  {
   "cell_type": "code",
   "execution_count": 18,
   "id": "8e7dbaaf-e502-4233-8368-0b72adad2186",
   "metadata": {},
   "outputs": [],
   "source": [
    "def celcius_to_fahrenheit(celcius):\n",
    "    return (celcius * 1.8) + 32\n",
    "def kilometer_to_mile(kilometer):\n",
    "    return 0.621371 * kilometer"
   ]
  },
  {
   "cell_type": "markdown",
   "id": "5eb47025-c7f5-435d-be7f-8014e5b2faee",
   "metadata": {},
   "source": [
    "# Section 6 Talking to the Internet\n",
    "\n",
    "So far all the \"data\" we have worked on has come from the code we are running, we are given a list of numbers and we find the average from that. It would be nice to get our data from elsewhere to make more complex decisions. This section will be all about how we can talk to the internet with Python to talk in data and even control other systems.\n",
    "\n",
    "## Whats Happening When We Go to a URL?\n",
    "\n",
    "When we go to a place using our browser, we are making a request against a \"server\". A \"server\" is just a computer connected to the internet that can handle responding to requests. For example, Google has a ton of servers which take in search requests and give back results. Typically, what we end up getting back is HTML, HTML is the structure of a website, its the \"code\" that describes were elements will appear on a page. That combined with CSS for styling and Javascript for functionality we have a complete website. Let's check out the HTML of Google.\n",
    "\n",
    "It turns out you don't need a browser to make a request against a server. For this seminar we will use a library called `requests`. This library is made for making HTTP requests against a given server."
   ]
  },
  {
   "cell_type": "code",
   "execution_count": 19,
   "id": "df8e8c78-863d-4652-b56a-84518b695b00",
   "metadata": {},
   "outputs": [],
   "source": [
    "import requests\n",
    "response = requests.get('https://www.google.com')"
   ]
  },
  {
   "cell_type": "code",
   "execution_count": 20,
   "id": "3ea69a2f-f67b-4d46-8cab-c7710313208c",
   "metadata": {},
   "outputs": [
    {
     "name": "stdout",
     "output_type": "stream",
     "text": [
      "<Response [200]>\n"
     ]
    }
   ],
   "source": [
    "print(response)"
   ]
  },
  {
   "cell_type": "code",
   "execution_count": 11,
   "id": "8c0e855b-2798-4130-add5-396c8db07f47",
   "metadata": {},
   "outputs": [],
   "source": [
    "print(response.content)"
   ]
  },
  {
   "cell_type": "markdown",
   "id": "be0df3fb-78f6-40ba-a9b1-2b88a451515c",
   "metadata": {},
   "source": [
    "## Going Beyond HTML\n",
    "\n",
    "So we know we can call code from `requests` in order to make a request against a website like we would in a browser, now what? Well next we want to make requests that don't give us back HTML, but another format called JSON.\n",
    "\n",
    "Let's take a look at the website we will use, the [National Weather Service station at Logan](https://api.weather.gov/stations/KBOS/observations/latest)\n",
    "\n",
    "The full URL is below\n",
    "```\n",
    "https://api.weather.gov/stations/KBOS/observations/latest\n",
    "```\n",
    "\n",
    "Lets quickly look at the anatomy of a URL before diving into using that URL to get data. A url follows the format\n",
    "\n",
    "```\n",
    "<protocol>://<domain>/<path>\n",
    "```\n",
    "\n",
    "The protocol is how to talk to the server, for our purposes that will be either `http` or `https`. The domain is the name of the site and is unique. The path can be anything and the format depends on the developers who created the website. In this case, the path is specially constructed for deciding what data to give back. Can you guess what the path is requesting from the URL above?\n",
    "\n",
    "Let's navigate to the URL and look what we got back.\n",
    "\n",
    "\n",
    "We got something back called `JSON`. `JSON` stands for Javasript Object Notation and is such a standard format just about every programming lanauage has tools for working with the format. We will be able to walk through the data using what we already know plus the `requests` library.\n",
    "\n",
    "Let's work together to try to get the current wind speed from the observation."
   ]
  },
  {
   "cell_type": "code",
   "execution_count": 17,
   "id": "29b4f4b9-82a3-4b5e-9445-6f5b3360780f",
   "metadata": {},
   "outputs": [],
   "source": [
    "base_url = 'https://api.weather.gov/stations/KBOS/observations/latest'\n",
    "response = requests.get(base_url).json()"
   ]
  },
  {
   "cell_type": "markdown",
   "id": "d738ff51-b262-43b3-ace1-fb654c228349",
   "metadata": {},
   "source": [
    "## Try it Yourself\n",
    "\n",
    "Now try this out yourself. Based on how we got the wind speed, lets get the current temperature, then lets use that to determine what article of clothing is most appropriate. This problem will take more time, so break things up into pieces, make the request, get the tempature, use that to determine the correct clothing, then print out that article of clothing.\n",
    "\n",
    "| Temperature Range | Clothing     |\n",
    "|-------------------|--------------|\n",
    "| < 40              | Winter Coat  |\n",
    "| 40-50             | Sweat Shirt  |\n",
    "| 50-65             | Light Jacket |\n",
    "| > 65              | T-shirt      |"
   ]
  },
  {
   "cell_type": "code",
   "execution_count": null,
   "id": "1dc9347a-280f-4441-9b3f-63e2205a10d3",
   "metadata": {},
   "outputs": [],
   "source": []
  },
  {
   "cell_type": "markdown",
   "id": "fcfac9d3-0179-4120-8784-8bd5733f9a20",
   "metadata": {},
   "source": [
    "## More then Weather\n",
    "\n",
    "Lets take some time and explore what are some other free APIs available. There are millions out there, some free, some require an account.\n",
    "\n",
    "https://github.com/public-apis/public-apis"
   ]
  },
  {
   "cell_type": "code",
   "execution_count": null,
   "id": "b2a9cf19-989d-416b-9ad7-d7a6a74f20eb",
   "metadata": {},
   "outputs": [],
   "source": []
  }
 ],
 "metadata": {
  "kernelspec": {
   "display_name": "Python 3 (ipykernel)",
   "language": "python",
   "name": "python3"
  },
  "language_info": {
   "codemirror_mode": {
    "name": "ipython",
    "version": 3
   },
   "file_extension": ".py",
   "mimetype": "text/x-python",
   "name": "python",
   "nbconvert_exporter": "python",
   "pygments_lexer": "ipython3",
   "version": "3.11.4"
  }
 },
 "nbformat": 4,
 "nbformat_minor": 5
}
